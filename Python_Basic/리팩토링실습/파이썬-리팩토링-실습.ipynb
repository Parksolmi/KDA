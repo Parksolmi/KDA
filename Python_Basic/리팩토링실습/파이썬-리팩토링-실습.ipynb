{
 "cells": [
  {
   "cell_type": "markdown",
   "metadata": {
    "id": "5B125pRCip6a"
   },
   "source": [
    "# **리뷰 통계 정리기** | 리팩토링 실습 과제\n",
    "\n",
    "## **문제 설명**\n",
    "다음은 쇼핑몰 사용자 리뷰 데이터를 바탕으로 **긍정/부정 단어 개수를 세고**,   \n",
    "리뷰에서 **가장 자주 등장한 단어**를 출력하는 코드입니다.   \n",
    "\n",
    "하지만 다음과 같은 문제가 있습니다:\n",
    "* 코드가 **길고 중복이 많으며**, 기능별로 정리가 되어 있지 않습니다.\n",
    "* **타입 힌트가 빠져 있고**, 반복문이 너무 많이 사용되었습니다.\n",
    "* **리스트 컴프리헨션, 함수 추출, 조건 처리, 기초적인 클래스/제너레이터 활용** 없이 작성된 상태입니다.\n",
    "\n",
    "## 🎯 **리팩터링 미션**\n",
    "1. **의미별로 함수를 나누고**, 중복 코드를 제거하세요.\n",
    "2. **리스트 컴프리헨션을 적극 활용**하세요.\n",
    "3. **타입 힌트**를 모든 함수에 적용하세요.\n",
    "4. **전역 변수 없이** 코드를 구성하세요.\n",
    "5. **클래스나 제너레이터**는 선택사항으로 활용해보세요.\n",
    "\n",
    "## 📌 **요구 조건 체크리스트**\n",
    "- [ ] `analyze_reviews()` 같은 메인 로직 함수가 존재함\n",
    "- [ ] `count_word_occurrences()` 등의 별도 함수로 분리\n",
    "- [ ] 중복 반복문 제거 (예: 단어 개수 세기 이중 for 제거)\n",
    "- [ ] 리스트 컴프리헨션 1회 이상 사용\n",
    "- [ ] 타입 힌트 전면 적용\n",
    "- [ ] 출력 내용 동일하게 유지\n",
    "\n",
    "## 💡 **선택 확장 미션**\n",
    "* 가장 많이 등장한 단어가 여러 개라면 사전순으로 먼저인 단어를 출력하도록 바꿔보세요.\n",
    "* 제너레이터를 사용하여 split()한 단어를 하나씩 처리하는 방식으로 바꿔보세요.\n",
    "\n",
    "## 🍎 **출력 예시**\n",
    "```\n",
    "긍정 단어 수: 20\n",
    "부정 단어 수: 18\n",
    "가장 많이 등장한 단어: 좋아요! (4회)\n",
    "```"
   ]
  },
  {
   "cell_type": "markdown",
   "metadata": {
    "id": "QhoAYfCyip6c"
   },
   "source": [
    "아래는 리팩토링이 필요한 기존 코드입니다."
   ]
  },
  {
   "cell_type": "code",
   "execution_count": 3,
   "metadata": {},
   "outputs": [
    {
     "name": "stdout",
     "output_type": "stream",
     "text": [
      "긍정 단어 수: 20\n",
      "부정 단어 수: 18\n",
      "가장 많이 등장한 단어: 좋아요! (4회)\n"
     ]
    }
   ],
   "source": [
    "# 리뷰 데이터\n",
    "reviews = [\n",
    "    \"이 제품 정말 좋아요! 배송도 빠르고 품질도 훌륭합니다\",\n",
    "    \"가격대비 그저 그래요... 아쉽네요\",\n",
    "    \"좋은 상품입니다 또 구매할게요!\",\n",
    "    \"별로에요 실망했어요 ㅠㅠ\",\n",
    "    \"만족스럽습니다 좋아요 좋아요!\",\n",
    "    \"품질이 훌륭하고 가성비도 좋네요\",\n",
    "    \"배송이 너무 늦어서 실망했어요\",\n",
    "    \"디자인도 예쁘고 성능도 만족스러워요\",\n",
    "    \"AS가 불친절하고 제품도 별로네요\",\n",
    "    \"가격도 합리적이고 좋은 선택이었어요\",\n",
    "    \"포장이 허술해서 아쉽네요...\",\n",
    "    \"기대 이상으로 만족스러운 제품입니다\",\n",
    "    \"사용하기 불편하고 그저 그래요\",\n",
    "    \"빠른 배송 감사합니다 좋아요!\",\n",
    "    \"품질이 기대에 못미쳐서 실망이에요\",\n",
    "    \"서비스가 친절하고 제품도 훌륭해요\",\n",
    "    \"가격은 비싼데 성능이 별로네요\",\n",
    "    \"전반적으로 만족스러운 구매였습니다\",\n",
    "    \"오배송이라 너무 실망스러워요\",\n",
    "    \"재구매 의사 있을 정도로 좋아요!\"\n",
    "]\n",
    "\n",
    "# 긍정/부정 단어 리스트\n",
    "positive_words = ['좋아요', '훌륭', '만족', '빠르고', '예쁘고', '친절', '합리적', '기대 이상', '감사', '재구매', '가성비']\n",
    "negative_words = ['별로', '실망', '아쉽', '그저', '불친절', '허술', '불편', '못미쳐', '비싼', '오배송', '늦어',]\n",
    "\n",
    "# 긍정 단어 개수 세기\n",
    "positive_count = 0\n",
    "for review in reviews:\n",
    "    for word in positive_words:\n",
    "        if word in review:\n",
    "            positive_count = positive_count + 1\n",
    "\n",
    "# 부정 단어 개수 세기\n",
    "negative_count = 0\n",
    "for review in reviews:\n",
    "    for word in negative_words:\n",
    "        if word in review:\n",
    "            negative_count = negative_count + 1\n",
    "\n",
    "print(f\"긍정 단어 수: {positive_count}\")\n",
    "print(f\"부정 단어 수: {negative_count}\")\n",
    "\n",
    "# 가장 많이 등장한 단어 찾기\n",
    "word_count = {}\n",
    "for review in reviews:\n",
    "    words = review.split()\n",
    "    for word in words:\n",
    "        if word in word_count:\n",
    "            word_count[word] = word_count[word] + 1\n",
    "        else:\n",
    "            word_count[word] = 1\n",
    "\n",
    "# 최대 빈도수 찾기\n",
    "max_frequency = 0\n",
    "most_common = ''\n",
    "for word in word_count:\n",
    "    if word_count[word] > max_frequency:\n",
    "        max_frequency = word_count[word]\n",
    "        most_common = word\n",
    "\n",
    "print(f\"가장 많이 등장한 단어: {most_common} ({max_frequency}회)\")"
   ]
  },
  {
   "cell_type": "markdown",
   "metadata": {},
   "source": [
    "## 리팩토링 코드"
   ]
  },
  {
   "cell_type": "code",
   "execution_count": null,
   "metadata": {
    "id": "Ts1Jlcyfip6d",
    "outputId": "968278b7-51ef-4991-f6d2-5811c2754447"
   },
   "outputs": [
    {
     "name": "stdout",
     "output_type": "stream",
     "text": [
      "긍정 단어 수: 20\n",
      "부정 단어 수: 18\n",
      "가장 많이 등장한 단어: 좋아요! (4회)\n"
     ]
    }
   ],
   "source": [
    "# 리뷰 데이터\n",
    "reviews = [\n",
    "    \"이 제품 정말 좋아요! 배송도 빠르고 품질도 훌륭합니다\",\n",
    "    \"가격대비 그저 그래요... 아쉽네요\",\n",
    "    \"좋은 상품입니다 또 구매할게요!\",\n",
    "    \"별로에요 실망했어요 ㅠㅠ\",\n",
    "    \"만족스럽습니다 좋아요 좋아요!\",\n",
    "    \"품질이 훌륭하고 가성비도 좋네요\",\n",
    "    \"배송이 너무 늦어서 실망했어요\",\n",
    "    \"디자인도 예쁘고 성능도 만족스러워요\",\n",
    "    \"AS가 불친절하고 제품도 별로네요\",\n",
    "    \"가격도 합리적이고 좋은 선택이었어요\",\n",
    "    \"포장이 허술해서 아쉽네요...\",\n",
    "    \"기대 이상으로 만족스러운 제품입니다\",\n",
    "    \"사용하기 불편하고 그저 그래요\",\n",
    "    \"빠른 배송 감사합니다 좋아요!\",\n",
    "    \"품질이 기대에 못미쳐서 실망이에요\",\n",
    "    \"서비스가 친절하고 제품도 훌륭해요\",\n",
    "    \"가격은 비싼데 성능이 별로네요\",\n",
    "    \"전반적으로 만족스러운 구매였습니다\",\n",
    "    \"오배송이라 너무 실망스러워요\",\n",
    "    \"재구매 의사 있을 정도로 좋아요!\"\n",
    "]\n",
    "# 긍정/부정 단어 리스트\n",
    "positive_words = ['좋아요', '훌륭', '만족', '빠르고', '예쁘고', '친절', '합리적', '기대 이상', '감사', '재구매', '가성비']\n",
    "negative_words = ['별로', '실망', '아쉽', '그저', '불친절', '허술', '불편', '못미쳐', '비싼', '오배송', '늦어',]\n",
    "\n",
    "def count_words(reviews: list, words: list) -> int:\n",
    "    \"\"\"특정 단어들이 리뷰에서 등장하는 횟수를 계산합니다.\"\"\"\n",
    "    count = sum(1 for review in reviews for word in words if word in review)\n",
    "    return count\n",
    "\n",
    "def find_most_common_word(reviews):\n",
    "    \"\"\"리뷰에서 가장 많이 등장한 단어와 그 빈도수를 반환합니다.\"\"\"\n",
    "    word_count = {}\n",
    "\n",
    "    for review in reviews:\n",
    "        words = review.split()\n",
    "        for word in words:\n",
    "            word_count[word] = word_count.get(word, 0) + 1\n",
    "    \n",
    "    most_common = max(word_count.items(), key=lambda x: x[1])\n",
    "    return most_common\n",
    "\n",
    "def analyzs_reviews(reviews: list, positive_words: list, negative_words: list) -> None:\n",
    "    \"\"\"리뷰를 분석하여 긍정/부정 단어 수와 가장 많이 등장한 단어를 출력합니다.\"\"\"\n",
    "    positive_count = count_words(reviews, positive_words)\n",
    "    negative_count = count_words(reviews, negative_words)\n",
    "\n",
    "    most_common_word, frequency = find_most_common_word(reviews)\n",
    "\n",
    "    print(f\"긍정 단어 수: {positive_count}\")\n",
    "    print(f\"부정 단어 수: {negative_count}\")\n",
    "    print(f\"가장 많이 등장한 단어: {most_common_word} ({frequency}회)\")\n",
    "\n",
    "analyzs_reviews(reviews, positive_words, negative_words)\n"
   ]
  },
  {
   "cell_type": "markdown",
   "metadata": {
    "id": "HVPH5lP8ip6f"
   },
   "source": [
    "---\n",
    "# **도서 리뷰 관리자 시스템 개선하기** | 리팩토링 심화 실습\n",
    "\n",
    "## **문제 설명**\n",
    "다음은 한 개발자가 급하게 작성한 도서 리뷰 관리 프로그램입니다.   \n",
    "\n",
    "이 코드는 기본 기능은 있지만, 다음과 같은 문제가 있습니다:\n",
    "* 책과 리뷰를 별도 클래스로 분리하지 않고 딕셔너리만 사용\n",
    "* 코드가 기능별로 나뉘어 있지 않고 main 블록에 몰려 있음\n",
    "* 중복된 코드와 가독성이 떨어지는 변수명\n",
    "* 타입 힌트 누락, 모듈화 미비\n",
    "\n",
    "여러분은 이 코드를 클래스 기반으로 재구성하고,   \n",
    "py 파일로 분리하여 Jupyter Notebook에서 불러오는 구조로 리팩터링 해야 합니다.\n",
    "\n",
    "## 🎯 **리팩터링 미션**\n",
    "1. BookReview 클래스 만들기\n",
    "    - **한 권의 책에 대한 리뷰 정보를 저장하고 처리하는 역할을 합니다.**\n",
    "    - 책 제목(`title: str`)과 리뷰 점수 리스트(`scores: List[int]`)를 속성으로 가집니다.\n",
    "    - 새로운 평점을 추가하는 `add_review(score: int)` 메서드를 제공합니다.\n",
    "    - 현재까지의 평균 평점을 계산하는 `average_score() -> float` 메서드를 제공합니다.\n",
    "    - `이 클래스는 개별 책 단위의 리뷰 데이터를 구조적으로 관리하고, 평점들을 스스로 처리할 수 있게 합니다.\n",
    "2. ReviewManager 클래스 만들기\n",
    "    - **여러 책(BookReview 객체)과 리뷰들을 통합적으로 관리하는 컨트롤러 역할을 합니다.**\n",
    "    - 내부적으로는 `Dict[str, BookReview]` 구조를 사용하여, 책 제목별 리뷰 객체를 저장합니다.\n",
    "    - 해당 책의 리뷰를 추가하는 `add_review(title: str, score: int) -> None` 메소드를 제공합니다.\n",
    "    - 특정 책의 평균을 계산하는 `get_average(title: str) -> float` 메소드를 제공합니다.\n",
    "    - 가장 평점이 높은 책을 반환하는 `get_top_book() -> Tuple[str, float]` 메소드를 제공합니다.\n",
    "    - 전체 프로그램의 입출력 인터페이스 역할을 하며, BookReview 객체들과의 상호작용을 중개합니다\n",
    "3. 코드 모듈화\n",
    "    - 위 두 클래스를 각각 `book_review.py`, `review_manager.py`로 분리\n",
    "    - ReviewManager 클래스에서는 `from book_review import BookReview`로 불러올 수 있도록 할 것\n",
    "    - Jupyter Notebook에서는 `from review import ReviewManager`로 불러올 수 있도록 할 것\n",
    "4. 타입 힌트 전면 적용\n",
    "\n",
    "## 📌 **요구 조건 체크리스트**\n",
    "- [ ] 클래스 분리 완료 (BookReview, ReviewManager)\n",
    "- [ ] 기능별 메서드 분리\n",
    "- [ ] 중복 제거\n",
    "- [ ] 타입 힌트 적용\n",
    "- [ ] py 파일로 분리 후 import 가능\n",
    "\n",
    "## 💡 **선택 확장 미션**\n",
    "* get_top_book()에서 동점 도서가 여러 개일 경우, 사전순으로 먼저인 책 반환\n",
    "* 평점 평균이 소수점 둘째 자리까지만 나오도록 처리\n",
    "\n",
    "## 🍎 **출력 예시**\n",
    "```\n",
    "파이썬 기초 평균: 4.50\n",
    "딥러닝 입문 평균: 2.33\n",
    "최고 평점 도서: 파이썬 기초 (4.5)\n",
    "```"
   ]
  },
  {
   "cell_type": "markdown",
   "metadata": {
    "id": "_IeacLyJjAOD"
   },
   "source": [
    "아래는 리팩토링이 필요한 기존 코드입니다."
   ]
  },
  {
   "cell_type": "code",
   "execution_count": null,
   "metadata": {
    "id": "J7VcAqViip6f",
    "outputId": "ff4cc932-00d2-4339-e566-047694dfaaa0"
   },
   "outputs": [
    {
     "name": "stdout",
     "output_type": "stream",
     "text": [
      "파이썬 기초 평균: 4.5\n",
      "딥러닝 입문 평균: 2.3333333333333335\n",
      "최고 평점 도서: 파이썬 기초 (4.5)\n"
     ]
    }
   ],
   "source": [
    "reviews = {}\n",
    "\n",
    "def add_review(title, score):\n",
    "    if title in reviews:\n",
    "        reviews[title].append(score)\n",
    "    else:\n",
    "        reviews[title] = [score]\n",
    "\n",
    "def average(title):\n",
    "    if title not in reviews:\n",
    "        return 0\n",
    "    total = 0\n",
    "    for score in reviews[title]:\n",
    "        total += score\n",
    "    return total / len(reviews[title])\n",
    "\n",
    "def top_book():\n",
    "    max_avg = 0\n",
    "    top_title = \"\"\n",
    "    for title in reviews:\n",
    "        avg = average(title)\n",
    "        if avg > max_avg:\n",
    "            max_avg = avg\n",
    "            top_title = title\n",
    "    return top_title, max_avg\n",
    "\n",
    "add_review(\"파이썬 기초\", 5)\n",
    "add_review(\"파이썬 기초\", 4)\n",
    "add_review(\"딥러닝 입문\", 5)\n",
    "add_review(\"딥러닝 입문\", 1)\n",
    "add_review(\"웹 개발 입문\", 4)\n",
    "add_review(\"딥러닝 입문\", 1)\n",
    "\n",
    "print(f\"파이썬 기초 평균: {average('파이썬 기초')}\")\n",
    "print(f\"딥러닝 입문 평균: {average('딥러닝 입문')}\")\n",
    "print(f\"최고 평점 도서: {top_book()[0]} ({top_book()[1]})\")"
   ]
  },
  {
   "cell_type": "markdown",
   "metadata": {},
   "source": [
    "## 개선 코드 "
   ]
  },
  {
   "cell_type": "markdown",
   "metadata": {},
   "source": [
    "### 📄 book_review.py"
   ]
  },
  {
   "cell_type": "code",
   "execution_count": null,
   "metadata": {},
   "outputs": [],
   "source": [
    "from typing import List\n",
    "\n",
    "class BookReview:\n",
    "    def __init__(self, title: str):\n",
    "        self.title: str = title\n",
    "        self.scores: List[int] = []\n",
    "\n",
    "    def add_review(self, score: int) -> None:\n",
    "        self.scores.append(score)\n",
    "\n",
    "    def average_score(self) -> float:\n",
    "        if not self.scores:\n",
    "            return 0.0\n",
    "        return sum(self.scores) / len(self.scores)\n"
   ]
  },
  {
   "cell_type": "markdown",
   "metadata": {},
   "source": [
    "### 📄 review_manager.py"
   ]
  },
  {
   "cell_type": "code",
   "execution_count": null,
   "metadata": {},
   "outputs": [],
   "source": [
    "from typing import Dict, Tuple\n",
    "from book_review import BookReview\n",
    "\n",
    "class ReviewManager:\n",
    "    def __init__(self):\n",
    "        self.books: Dict[str, BookReview] = {}\n",
    "\n",
    "    def add_review(self, title: str, score: int) -> None:\n",
    "        if title not in self.books:\n",
    "            self.books[title] = BookReview(title)\n",
    "        self.books[title].add_review(score)\n",
    "\n",
    "    def get_average(self, title: str) -> float:\n",
    "        if title not in self.books:\n",
    "            return 0.0\n",
    "        return self.books[title].average_score()\n",
    "\n",
    "    def get_top_book(self) -> Tuple[str, float]:\n",
    "        if not self.books:\n",
    "            return (\"\", 0.0)\n",
    "        max_title = \"\"\n",
    "        max_avg = 0.0\n",
    "        for title, book in self.books.items():\n",
    "            avg = book.average_score()\n",
    "            if avg > max_avg or (avg == max_avg and title < max_title):\n",
    "                max_title = title\n",
    "                max_avg = avg\n",
    "        return max_title, max_avg"
   ]
  },
  {
   "cell_type": "markdown",
   "metadata": {},
   "source": [
    "### 🌏 Jupyter Notebook 코드셀"
   ]
  },
  {
   "cell_type": "code",
   "execution_count": 2,
   "metadata": {},
   "outputs": [
    {
     "name": "stdout",
     "output_type": "stream",
     "text": [
      "파이썬 기초 평균: 4.50\n",
      "딥러닝 입문 평균: 2.33\n",
      "최고 평점 도서: 파이썬 기초 (4.5)\n"
     ]
    }
   ],
   "source": [
    "from review_manager import ReviewManager\n",
    "\n",
    "manager = ReviewManager()\n",
    "manager.add_review(\"파이썬 기초\", 5)\n",
    "manager.add_review(\"파이썬 기초\", 4)\n",
    "manager.add_review(\"딥러닝 입문\", 5)\n",
    "manager.add_review(\"딥러닝 입문\", 1)\n",
    "manager.add_review(\"웹 개발 입문\", 4)\n",
    "manager.add_review(\"딥러닝 입문\", 1)\n",
    "\n",
    "print(f\"파이썬 기초 평균: {manager.get_average('파이썬 기초'):.2f}\")  # 4.5\n",
    "print(f\"딥러닝 입문 평균: {manager.get_average('딥러닝 입문'):.2f}\")  # 4.0\n",
    "\n",
    "top_title, top_score = manager.get_top_book()\n",
    "print(f\"최고 평점 도서: {top_title} ({top_score:.1f})\")"
   ]
  },
  {
   "cell_type": "code",
   "execution_count": null,
   "metadata": {},
   "outputs": [],
   "source": []
  }
 ],
 "metadata": {
  "colab": {
   "provenance": []
  },
  "kernelspec": {
   "display_name": "pb",
   "language": "python",
   "name": "python3"
  },
  "language_info": {
   "codemirror_mode": {
    "name": "ipython",
    "version": 3
   },
   "file_extension": ".py",
   "mimetype": "text/x-python",
   "name": "python",
   "nbconvert_exporter": "python",
   "pygments_lexer": "ipython3",
   "version": "3.10.16"
  }
 },
 "nbformat": 4,
 "nbformat_minor": 0
}
