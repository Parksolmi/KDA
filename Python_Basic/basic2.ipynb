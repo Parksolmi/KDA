{
 "cells": [
  {
   "cell_type": "code",
   "execution_count": 2,
   "id": "fe0d10ae",
   "metadata": {},
   "outputs": [
    {
     "name": "stdout",
     "output_type": "stream",
     "text": [
      "최고 점수: 100\n",
      "최저 점수: 66\n"
     ]
    }
   ],
   "source": [
    "#24번\n",
    "\n",
    "# 점수 5개가 담긴 튜플을 선언해봅시다.\n",
    "scores = (79, 82, 100, 94, 66)\n",
    "\n",
    "# 최고 점수를 구해서 high에 저장해봅시다.\n",
    "high = max(scores)\n",
    "\n",
    "# 최저 점수를 구해서 low에 저장해봅시다.\n",
    "low = min(scores)\n",
    "\n",
    "# 결과를 출력해봅시다.\n",
    "print(\"최고 점수:\", high)\n",
    "print(\"최저 점수:\", low)"
   ]
  },
  {
   "cell_type": "code",
   "execution_count": 3,
   "id": "411153aa",
   "metadata": {},
   "outputs": [
    {
     "name": "stdout",
     "output_type": "stream",
     "text": [
      "총점: 375\n",
      "평균: 75.0\n"
     ]
    }
   ],
   "source": [
    "#25번\n",
    "\n",
    "# 점수 리스트를 만들어봅시다.\n",
    "scores = [ 100, 24 , 95 , 84, 72 ]\n",
    "\n",
    "# 총점을 구해서 total에 저장해봅시다.\n",
    "total = sum(scores)\n",
    "\n",
    "# 점수 개수를 구해서 count에 저장해봅시다.\n",
    "count = len(scores)\n",
    "\n",
    "# 평균을 구해서 avg에 저장해봅시다.\n",
    "avg = total/count\n",
    "\n",
    "# 출력해봅시다.\n",
    "print(\"총점:\", total)\n",
    "print(\"평균:\", avg)"
   ]
  },
  {
   "cell_type": "code",
   "execution_count": 4,
   "id": "442f21f3",
   "metadata": {},
   "outputs": [
    {
     "name": "stdout",
     "output_type": "stream",
     "text": [
      "3 4\n",
      "3 4\n",
      "None\n",
      "12\n"
     ]
    }
   ],
   "source": [
    "#26번\n",
    "\n",
    "# 1. 매개변수 a, b를 더한 결과를 print만 하는 함수 no_return을 정의해봅시다.\n",
    "def no_return(a, b):\n",
    "    print(a, b)\n",
    "\n",
    "# 2. 매개변수 a, b를 곱한 결과를 return으로 돌려주는 함수 yes_return을 정의해봅시다.\n",
    "def yes_return(a, b):\n",
    "    return a*b\n",
    "\n",
    "# 3. 두 함수를 호출해보고 출력 결과를 주석에 작성합시다.\n",
    "no_return(3, 4)         # 결과 1:\n",
    "print(no_return(3, 4))  # 결과 2:\n",
    "print(yes_return(3, 4)) # 결과 3:"
   ]
  },
  {
   "cell_type": "code",
   "execution_count": 8,
   "id": "fa58cb01",
   "metadata": {},
   "outputs": [
    {
     "name": "stdout",
     "output_type": "stream",
     "text": [
      "함수 안: 하루 한끼\n",
      "함수 밖: 하루에 3끼!\n"
     ]
    }
   ],
   "source": [
    "#27번\n",
    "\n",
    "# 1. 전역 변수 meal에 값을 저장합니다.\n",
    "meal = \"하루에 3끼!\"\n",
    "\n",
    "# 2. diet() 함수를 정의하고, 함수 안에서 meal 값을 변경해봅니다.\n",
    "def diet():\n",
    "    # 지역 변수 meal을 정의하고 출력해보세요.\n",
    "    meal = \"하루 한끼\"\n",
    "    print(\"함수 안:\", meal)\n",
    "\n",
    "# 3. 함수를 호출해봅시다.\n",
    "diet()\n",
    "\n",
    "# 4. 함수 밖에서 다시 meal 값을 출력해봅시다.\n",
    "print(\"함수 밖:\", meal)\n"
   ]
  },
  {
   "cell_type": "code",
   "execution_count": 15,
   "id": "509c0a7b",
   "metadata": {},
   "outputs": [
    {
     "name": "stdout",
     "output_type": "stream",
     "text": [
      "python is fun\n",
      "PYTHON IS FUN\n",
      "python is awesome\n"
     ]
    }
   ],
   "source": [
    "#28번\n",
    "\n",
    "# 1. 문자열을 담은 변수를 선언해봅시다.\n",
    "text = \"python is fun\"\n",
    "\n",
    "# 2. upper 메서드를 이용해 대문자로 만들어봅시다.\n",
    "upper = text.upper()\n",
    "\n",
    "# 3. replace 메서드를 이용해 일부 단어를 바꿔봅시다.\n",
    "replace = text.replace('fun', 'awesome')\n",
    "\n",
    "# 4. 세 변수를 차례대로 출력해봅시다.\n",
    "print(text)\n",
    "print(upper)\n",
    "print(replace)"
   ]
  },
  {
   "cell_type": "code",
   "execution_count": 17,
   "id": "bf5fb496",
   "metadata": {},
   "outputs": [
    {
     "name": "stdout",
     "output_type": "stream",
     "text": [
      "안녕하세요, 태호님!\n",
      "안녕하세요, 지민님!\n"
     ]
    }
   ],
   "source": [
    "#29번\n",
    "\n",
    "# 1. 매개변수 name을 가진 함수 say_hello를 정의해봅시다.\n",
    "def say_hello(name) :\n",
    "    print(f\"안녕하세요, {name}님!\")\n",
    "\n",
    "# 2. 함수 내부에서 인사 메시지를 출력해봅시다.\n",
    "def call_hello(name) :\n",
    "    say_hello(name)\n",
    "\n",
    "# 3. 인자 \"태호\"를 넣어 함수를 호출해보세요.\n",
    "call_hello('태호')\n",
    "\n",
    "# 4. 인자 \"지민\"도 넣어 함수를 호출해보세요.\n",
    "call_hello('지민')"
   ]
  },
  {
   "cell_type": "code",
   "execution_count": 18,
   "id": "eabd04fc",
   "metadata": {},
   "outputs": [
    {
     "name": "stdout",
     "output_type": "stream",
     "text": [
      "93\n"
     ]
    }
   ],
   "source": [
    "#30번\n",
    "\n",
    "# 리스트 nums를 넣었을 때, 최댓값을 반환(return)하는 함수 my_min을 작성해봅시다.\n",
    "def my_min(nums):\n",
    "    nums.sort()\n",
    "    return nums[-1]\n",
    "\n",
    "print(my_min([4, 19, 30, 48, 12, 93, 20, 0, 23, 82]))"
   ]
  },
  {
   "cell_type": "code",
   "execution_count": 24,
   "id": "9e3ba550",
   "metadata": {},
   "outputs": [
    {
     "name": "stdout",
     "output_type": "stream",
     "text": [
      "Demian\n"
     ]
    }
   ],
   "source": [
    "#31번\n",
    "\n",
    "class Author:\n",
    "    def __init__(self, name):\n",
    "        self.name = name\n",
    "\n",
    "class Book:\n",
    "    # 생성자는 매개변수로 제목과 작가이름을 받아\n",
    "    # 그 값을 클래스의 속성에 저장합니다.\n",
    "    def __init__(self, title, author, likes = 0, reviews = 0):\n",
    "\n",
    "        # 속성들을 초기화 합니다\n",
    "        self.title = title\n",
    "        self.author = author\n",
    "\n",
    "        # 아래의 코드를 수정하세요.\n",
    "        self.likes = likes\n",
    "        self.reviews = reviews\n",
    "\n",
    "# 새로운 작가 me를 생성합니다.\n",
    "me = Author(\"Hermann Hesse\")\n",
    "\n",
    "# 아래에 자유롭게 인스턴스를 생성하고 테스트해 보세요.\n",
    "my_book = Book(\"Demian\", me)\n",
    "print(my_book.title)"
   ]
  },
  {
   "cell_type": "code",
   "execution_count": 26,
   "id": "dc348d5a",
   "metadata": {},
   "outputs": [
    {
     "name": "stdout",
     "output_type": "stream",
     "text": [
      "1\n",
      "Demian\n",
      "Hermann Hesse, Demian, \n",
      "\n",
      "ids >>  (1, 2)\n",
      "pws >>  [111, 222]\n"
     ]
    }
   ],
   "source": [
    "#32번\n",
    "\n",
    "class Author:\n",
    "    def __init__(self, id, pw, name):\n",
    "        self.id = id\n",
    "        self.pw = pw\n",
    "        self.name = name\n",
    "\n",
    "class Book:\n",
    "    # 생성자는 매개변수로 제목과 작가이름을 받아\n",
    "    # 그 값을 클래스의 속성에 저장합니다.\n",
    "    def __init__(self, title, author):\n",
    "\n",
    "        # 속성들을 초기화 합니다\n",
    "        self.title = title\n",
    "        self.author = author\n",
    "\n",
    "        # 아래의 코드를 수정하세요.\n",
    "        self.likes = []\n",
    "\n",
    "    # num_likes 메소드를 생성합니다.\n",
    "    # 아래의 코드를 수정해서 메소드를 완성하세요.\n",
    "    def num_likes(self):\n",
    "        return len(self.likes)\n",
    "\n",
    "    # like 메소드를 생성합니다.\n",
    "    # 아래의 코드를 수정해서 메소드를 완성하세요.\n",
    "    def like(self, user):\n",
    "        self.likes.append(user)\n",
    "        return \n",
    "    \n",
    "    def print_like_users_name(self):\n",
    "        for user in self.likes:\n",
    "            print(user.name, end=\", \")\n",
    "\n",
    "    def return_like_users_id(self):\n",
    "        #리스트\n",
    "        # users_id = []\n",
    "        # for user in self.likes:\n",
    "        #     users_id.append(user.id)\n",
    "        # return users_id\n",
    "    \n",
    "        #튜플\n",
    "        users_id = ()\n",
    "        for user in self.likes:\n",
    "            users_id += (user.id, ) #콤마를 넣어야 튜플이 됨.\n",
    "        return users_id\n",
    "    \n",
    "    def return_like_users_pw(self):\n",
    "        users_pw = []\n",
    "        for user in self.likes:\n",
    "            users_pw.append(user.pw)\n",
    "        return users_pw\n",
    "\n",
    "\n",
    "# 새로운 작가 me를 생성합니다.\n",
    "me = Author(1, 111, \"Hermann Hesse\")\n",
    "de = Author(2, 222, \"Demian\")\n",
    "\n",
    "# 아래에 자유롭게 인스턴스를 생성하고 테스트해 보세요.\n",
    "my_book = Book(\"Demian\", me)\n",
    "my_book.like(me)\n",
    "print(my_book.num_likes())\n",
    "print(my_book.title)\n",
    "\n",
    "my_book.like(de)\n",
    "my_book.print_like_users_name() # return self.likes만 한 경우, [<__main__.Author object at 0x000002ABCFDB7880>, <__main__.Author object at 0x000002ABCFDB42B0>]\n",
    "\n",
    "print(\"\\n\")\n",
    "print(\"ids >> \", my_book.return_like_users_id())\n",
    "print(\"pws >> \", my_book.return_like_users_pw())\n",
    "\n"
   ]
  },
  {
   "cell_type": "code",
   "execution_count": null,
   "id": "5b3bed60",
   "metadata": {},
   "outputs": [
    {
     "name": "stdout",
     "output_type": "stream",
     "text": [
      "Demian , Hermann Hesse , https://ebook-product.co.kr/demian\n",
      "https://ebook-product.co.kr/demian로 이동합니다.\n"
     ]
    }
   ],
   "source": [
    "#33번\n",
    "\n",
    "class Book:\n",
    "    def __init__(self, title, author):\n",
    "        self.title = title\n",
    "        self.author = author\n",
    "\n",
    "# 아래에 EBook 클래스 선언합니다.\n",
    "class EBook(Book):\n",
    "    # 아래의 코드를 수정하여 올바른 생성자를 완성하세요.\n",
    "    def __init__(self, title, author, url):\n",
    "        super().__init__(title, author)\n",
    "\n",
    "        valid_url = url.startswith(\"http://\") or url.startswith(\"https://\")\n",
    "        if valid_url:\n",
    "            self.url = url\n",
    "        else:\n",
    "            raise ValueError(\"올바르지 않은 주소 형식입니다.\")\n",
    "    \n",
    "    def _go_to(self):\n",
    "        print(f\"{self.url}로 이동합니다.\")\n",
    "\n",
    "    # 아래에 on_click() 메서드를 구현하세요\n",
    "    def on_click(self):\n",
    "        self._go_to()\n",
    "\n",
    "demian = EBook(\"Demian\", \"Hermann Hesse\", \"https://ebook-product.co.kr/demian\")\n",
    "print(demian.title, \",\", demian.author, \",\", demian.url)\n",
    "demian.on_click()"
   ]
  },
  {
   "cell_type": "code",
   "execution_count": null,
   "id": "c70717a6",
   "metadata": {},
   "outputs": [
    {
     "name": "stdout",
     "output_type": "stream",
     "text": [
      "my book\n",
      "2\n",
      "my book\n",
      "2\n",
      "['Hermann Hesse', 'Demian']\n"
     ]
    }
   ],
   "source": [
    "#34번\n",
    "\n",
    "class Author:\n",
    "    def __init__(self, name):\n",
    "        self.name = name\n",
    "\n",
    "class Book:\n",
    "    def __init__(self, title):\n",
    "        self.title = title\n",
    "        self.reactions = []\n",
    "        self.positive_reactions = 0\n",
    "        self.negative_reactions = 0\n",
    "\n",
    "class Reaction:\n",
    "    # 아래 코드의 빈 부분을 완성합니다.\n",
    "    def __init__(self, reaction_type, book, user):\n",
    "        if reaction_type not in [\"LIKE\", \"DISLIKE\", \"TOUCHED\", \"MOTIVATED\", \"DIFFICULT\", \"BEAUTIFUL\"]:\n",
    "            raise ValueError(\"올바르지 않은 값입니다.\")\n",
    "        if not isinstance(book, Book):\n",
    "            raise TypeError(\"book이 올바르지 않은 타입입니다.\", book, type(book))\n",
    "        if not isinstance(user, Author):\n",
    "            raise TypeError(\"user가 올바르지 않은 타입입니다.\", user, type(user))\n",
    "\n",
    "        self.reaction_type = reaction_type\n",
    "        self.book = book\n",
    "        self.user = user\n",
    "        self.book.reactions.append(user.name)\n",
    "\n",
    "# 아래 코드의 빈 부분을 완성합니다.\n",
    "class Like(Reaction):\n",
    "    def __init__(self, book, user):\n",
    "        super().__init__(\"LIKE\", book, user)\n",
    "        book.positive_reactions += 1\n",
    "\n",
    "class Dislike(Reaction):\n",
    "    def __init__(self, book, user):\n",
    "        super().__init__(\"DISLIKE\", book, user)\n",
    "        book.negative_reactions += 1\n",
    "\n",
    "my_book = Book(\"my book\")\n",
    "me = Author(\"Hermann Hesse\")\n",
    "de = Author(\"Demian\")\n",
    "like = Like(my_book, me)\n",
    "like2 = Like(my_book, de)\n",
    "\n",
    "print(like.book.title)\n",
    "print(like.book.positive_reactions)\n",
    "\n",
    "print(my_book.title)\n",
    "print(my_book.positive_reactions)\n",
    "\n",
    "print(my_book.reactions)\n",
    "\n",
    "# Reaction(\"LIKE\", \"python\", me)\n"
   ]
  },
  {
   "cell_type": "code",
   "execution_count": 50,
   "id": "d64311fd",
   "metadata": {},
   "outputs": [],
   "source": [
    "#35번\n",
    "\n"
   ]
  },
  {
   "cell_type": "code",
   "execution_count": null,
   "id": "0d02188b",
   "metadata": {},
   "outputs": [
    {
     "data": {
      "text/plain": [
       "'7416원'"
      ]
     },
     "execution_count": 75,
     "metadata": {},
     "output_type": "execute_result"
    }
   ],
   "source": [
    "#36번\n",
    "\n",
    "def get_average_price(prices):\n",
    "    price_sum = 0\n",
    "    for price in prices:\n",
    "        # '원'이라는 글자를 제거합니다.\n",
    "        price_num = int(price[:-1])\n",
    "\n",
    "        # 아래 코드들을 수정하거나 추가하세요.\n",
    "        price_sum += price_num\n",
    "\n",
    "    average_price = int(price_sum / len(prices))\n",
    "    return f\"{average_price}원\"\n",
    "\n",
    "get_average_price(['5000원', '250원', '17000원'])"
   ]
  },
  {
   "cell_type": "code",
   "execution_count": 83,
   "id": "db13d56c",
   "metadata": {},
   "outputs": [
    {
     "name": "stdout",
     "output_type": "stream",
     "text": [
      "8083원\n",
      "2500원\n",
      "None\n"
     ]
    }
   ],
   "source": [
    "#37번\n",
    "\n",
    "# 아래 코드들을 수정하거나 추가하세요.\n",
    "def get_average_price(prices):\n",
    "    sum_prices = 0\n",
    "    valid_price_count = 0\n",
    "\n",
    "    for price in prices:\n",
    "        if price != \"\" :\n",
    "            # '원'이라는 글자를 제거합니다.\n",
    "            price_str = price[:-1]\n",
    "            sum_prices += int(price_str)\n",
    "            valid_price_count += 1\n",
    "    \n",
    "    if sum_prices == 0 : return None\n",
    "    \n",
    "    average = sum_prices / valid_price_count\n",
    "    return str(int(average)) + '원'\n",
    "\n",
    "\n",
    "print(get_average_price(['2000원', '19250원', '3000원']))\n",
    "print(get_average_price(['', '2500원']))\n",
    "print(get_average_price(['', '']))\n"
   ]
  },
  {
   "cell_type": "code",
   "execution_count": 84,
   "id": "15c354b1",
   "metadata": {},
   "outputs": [
    {
     "name": "stdout",
     "output_type": "stream",
     "text": [
      "8083원\n",
      "2500원\n",
      "None\n"
     ]
    }
   ],
   "source": [
    "#38번\n",
    "\n",
    "def get_average_price(prices):\n",
    "    \n",
    "    sum_prices = 0\n",
    "    valid_price_count = 0\n",
    "\n",
    "    for price in prices:\n",
    "        # 빈 문자열인 경우 세지 않습니다.\n",
    "        if price == '':\n",
    "            price_num = 0\n",
    "\n",
    "        # '원'이라는 글자를 제거합니다.\n",
    "        else:\n",
    "            price_num = int(price[:-1])\n",
    "            valid_price_count += 1\n",
    "\n",
    "        sum_prices += price_num\n",
    "\n",
    "    try:\n",
    "        average = sum_prices / valid_price_count\n",
    "        return str(int(average)) + '원'\n",
    "    except Exception as e:\n",
    "        # print(e)\n",
    "        return None\n",
    "\n",
    "print(get_average_price(['2000원', '19250원', '3000원']))\n",
    "print(get_average_price(['', '2500원']))\n",
    "print(get_average_price(['', '']))\n"
   ]
  },
  {
   "cell_type": "code",
   "execution_count": null,
   "id": "6c7ee2c9",
   "metadata": {},
   "outputs": [],
   "source": []
  }
 ],
 "metadata": {
  "kernelspec": {
   "display_name": "pb",
   "language": "python",
   "name": "python3"
  },
  "language_info": {
   "codemirror_mode": {
    "name": "ipython",
    "version": 3
   },
   "file_extension": ".py",
   "mimetype": "text/x-python",
   "name": "python",
   "nbconvert_exporter": "python",
   "pygments_lexer": "ipython3",
   "version": "3.10.16"
  }
 },
 "nbformat": 4,
 "nbformat_minor": 5
}
