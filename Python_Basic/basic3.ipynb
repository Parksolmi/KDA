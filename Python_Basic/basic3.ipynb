{
 "cells": [
  {
   "cell_type": "code",
   "execution_count": 36,
   "id": "1b928789",
   "metadata": {},
   "outputs": [
    {
     "name": "stdout",
     "output_type": "stream",
     "text": [
      "2\n",
      "1\n",
      "Alice, Bob, Charlie, Alice, Bob, David\n"
     ]
    }
   ],
   "source": [
    "#39번\n",
    "\n",
    "friends_str = \" Alice , Bob,  Charlie, Alice  ,Bob \"\n",
    "\n",
    "# 문자열을 친구 이름 리스트로 바꾸고(split_names) 공백을 제거(friends)합니다.\n",
    "split_names = friends_str.strip().split(\",\")\n",
    "friends = []\n",
    "for name in split_names:\n",
    "    friends.append(name.strip())\n",
    "\n",
    "# 새로운 친구 \"David\"가 있다면 제거하고, 없다면 추가합니다.\n",
    "if 'David' in friends: \n",
    "    david_index = friends.index(\"David\")\n",
    "    friends.pop(david_index)\n",
    "else: \n",
    "    friends.append('David')\n",
    "\n",
    "# \"Alice\"가 친구 목록에 몇 번 등장하는지 세어 alice_count 변수에 저장합니다.\n",
    "alice_count = friends.count('Alice')\n",
    "\n",
    "# \"Bob\"이 처음 등장하는 인덱스를 bob_index에 저장합니다.\n",
    "bob_index = friends.index('Bob')\n",
    "\n",
    "# friends 리스트를 다시 쉼표(', ')로 연결해 문자열로 바꾸고 result_str에 저장합니다.\n",
    "result_str= \", \".join(friends)\n",
    "\n",
    "# 결과를 출력합니다\n",
    "print(alice_count)\n",
    "print(bob_index)\n",
    "print(result_str)"
   ]
  },
  {
   "cell_type": "code",
   "execution_count": null,
   "id": "e0f1d606",
   "metadata": {},
   "outputs": [
    {
     "name": "stdout",
     "output_type": "stream",
     "text": [
      "n\n",
      "True\n",
      "20.0\n",
      "python\n"
     ]
    }
   ],
   "source": [
    "#40번\n",
    "\n",
    "def get_last_char(text):\n",
    "    return text[-1]\n",
    "\n",
    "def is_even(x):\n",
    "    return x % 2 == 0\n",
    "\n",
    "def calculate_average(x, y, z):\n",
    "    return (x + y + z) / 3\n",
    "\n",
    "def get_longer(str1, str2):\n",
    "    if len(str1) >= len(str2):\n",
    "        return str1\n",
    "    return str2\n",
    "\n",
    "# 위 함수들을 lambda 표현식으로 변환하여 아래 변수들에 저장하세요.\n",
    "last_char_lambda = lambda text: text[-1]\n",
    "even_lambda = lambda x: x % 2 == 0\n",
    "avg_lambda = lambda x, y, z: (x + y + z) / 3\n",
    "longer_lambda = lambda str1, str2: str1 if(len(str1) >= len(str2)) else str2\n",
    "\n",
    "# 결과 확인\n",
    "print(last_char_lambda('Python'))\n",
    "print(even_lambda(6))\n",
    "print(avg_lambda(10, 20, 30))\n",
    "print(longer_lambda('python', 'code'))"
   ]
  },
  {
   "cell_type": "code",
   "execution_count": 17,
   "id": "f640f2ef",
   "metadata": {},
   "outputs": [],
   "source": [
    "#41번\n",
    "\n",
    "# 37번의 일반 함수들\n",
    "def get_last_char(text):\n",
    "    return text[-1]\n",
    "\n",
    "def is_even(x):\n",
    "    return x % 2 == 0\n",
    "\n",
    "def calculate_average(x, y, z):\n",
    "    return (x + y + z) / 3\n",
    "\n",
    "def get_longer(str1, str2):\n",
    "    if len(str1) >= len(str2):\n",
    "        return str1\n",
    "    return str2\n",
    "\n",
    "# 아래에 37번에서 정의한 lambda 함수들을 복사해서 붙여넣으세요.\n",
    "last_char_lambda = lambda text: text[-1]\n",
    "even_lambda = lambda x: x % 2 == 0\n",
    "avg_lambda = lambda x, y, z: (x + y + z) / 3\n",
    "longer_lambda = lambda str1, str2: str1 if(len(str1) >= len(str2)) else str2\n",
    "\n",
    "# 원본 함수와 lambda 함수의 실행 결과를 비교해보세요. 결과가 다르면 해당 Lambda 함수가 올바르지 않다는 에러 메시지를 출력합니다.\n",
    "assert get_last_char(\"python\") == last_char_lambda(\"python\")\n",
    "assert is_even(6) == even_lambda(6)\n",
    "assert calculate_average(10, 20, 30) == avg_lambda(10, 20, 30)\n",
    "assert get_longer(\"python\", \"code\") == longer_lambda(\"python\", \"code\")\n",
    "\n"
   ]
  },
  {
   "cell_type": "code",
   "execution_count": 28,
   "id": "a5f86570",
   "metadata": {},
   "outputs": [
    {
     "name": "stdout",
     "output_type": "stream",
     "text": [
      "\n",
      "점수 내림차순:\n",
      "[('Tinkerbell', 19, 95), ('Peterpan', 20, 92), ('John', 16, 85), ('Wendy', 18, 80)]\n",
      "\n",
      "이름 길이 오름차순:\n",
      "[('John', 16, 85), ('Wendy', 18, 80), ('Peterpan', 20, 92), ('Tinkerbell', 19, 95)]\n",
      "\n",
      "나이 오름차순(같은 나이는 점수 내림차순):\n",
      "[('John', 16, 85), ('Wendy', 18, 80), ('Tinkerbell', 19, 95), ('Peterpan', 20, 92)]\n"
     ]
    }
   ],
   "source": [
    "#42번\n",
    "\n",
    "# 학생 정보 리스트 (이름, 나이, 점수)\n",
    "students = [\n",
    "    ('Peterpan', 20, 92),\n",
    "    ('Wendy', 18, 80),\n",
    "    ('John', 16, 85),\n",
    "    ('Tinkerbell', 19, 95)\n",
    "]\n",
    "\n",
    "# 1. 점수를 기준으로 내림차순 정렬\n",
    "score_desc = sorted(students, key=lambda x: x[-1], reverse=True)\n",
    "\n",
    "# 2. 이름의 길이를 기준으로 오름차순 정렬\n",
    "name_len_asc = sorted(students, key=lambda x: len(x[0]), reverse=False)\n",
    "\n",
    "# 3. 나이 오름차순, 같은 나이는 점수 내림차순 정렬\n",
    "age_score = sorted(students, key=lambda s: (s[1], -s[2]))\n",
    "\n",
    "# 결과 출력\n",
    "print(\"\\n점수 내림차순:\")\n",
    "print(score_desc)\n",
    "\n",
    "print(\"\\n이름 길이 오름차순:\")\n",
    "print(name_len_asc)\n",
    "\n",
    "print(\"\\n나이 오름차순(같은 나이는 점수 내림차순):\")\n",
    "print(age_score)"
   ]
  },
  {
   "cell_type": "code",
   "execution_count": 60,
   "id": "0bf81483",
   "metadata": {},
   "outputs": [
    {
     "name": "stdout",
     "output_type": "stream",
     "text": [
      "[393, 49, 31, 57, 39]\n",
      "['hello', 'world', 'python']\n",
      "[('Kim', 'kim@email.com'), ('Park', 'park@email.com')]\n"
     ]
    }
   ],
   "source": [
    "#43번\n",
    "import re\n",
    "\n",
    "## 1. 짝수 제거\n",
    "numbers = [4, 393, 302, 49, 40, 31, 57, 39]\n",
    "# remove_even = filter(lambda n : n%2 != 0, numbers)\n",
    "remove_even = [n for n in numbers if n % 2 != 0]\n",
    "print(list(remove_even))\n",
    "\n",
    "\n",
    "## 2. 비어 있거나 공백 뿐인 문자열 제거\n",
    "strings = ['', 'hello', '   ', 'world', '', 'python', '  ', '']\n",
    "# remove_empty_strings = list(filter(lambda s: bool(s.strip()), strings))\n",
    "remove_empty_strings = [ s for s in strings if bool(s.strip()) ]\n",
    "print(remove_empty_strings)\n",
    "\n",
    "## 3. 이메일이 없는 사용자 제거\n",
    "users = [\n",
    "    ('Kim', 'kim@email.com'),\n",
    "    ('Lee', ''),\n",
    "    ('Park', 'park@email.com'),\n",
    "    ('Choi', '')\n",
    "]\n",
    "remove_no_email = list(filter(lambda u: bool(u[1]), users))\n",
    "print(remove_no_email)\n"
   ]
  },
  {
   "cell_type": "code",
   "execution_count": 72,
   "id": "7aca8d24",
   "metadata": {},
   "outputs": [
    {
     "name": "stdout",
     "output_type": "stream",
     "text": [
      "일반for문: [20000, 9600, 7120, 25600, 12480]\n",
      "컴프리헨션: [20000, 9600, 7120, 25600, 12480]\n",
      "일반for문: [25000, 12000, 32000, 15600]\n",
      "컴프리헨션: [25000, 12000, 32000, 15600]\n",
      "일반for문: [20000, 10800, 8010, 25600, 14040]\n",
      "컴프리헨션: [22500, 10800, 8010, 28800, 14040]\n"
     ]
    }
   ],
   "source": [
    "#44번\n",
    "\n",
    "## 상품 가격 리스트\n",
    "prices = [25000, 12000, 8900, 32000, 15600]\n",
    "\n",
    "## 1. 20% 할인 적용하기\n",
    "# 1-1. 일반 for문으로 작성\n",
    "sale_prices_for = []\n",
    "for price in prices:\n",
    "    sale_prices_for.append(int(price * 0.8))\n",
    "\n",
    "# 1-2. 리스트 컴프리헨션으로 작성\n",
    "sale_prices = [ int(p*0.8) for p in prices]\n",
    "\n",
    "# 1-3. 두 리스트 비교하기\n",
    "print(f\"일반for문: {sale_prices_for}\")\n",
    "print(f\"컴프리헨션: {sale_prices}\")\n",
    "\n",
    "## 2. 1만원 이상 상품 필터링\n",
    "# 2-1. 일반 for문으로 작성\n",
    "expensive_for = []\n",
    "for price in prices:\n",
    "    if price >= 10000:\n",
    "        expensive_for.append(price)\n",
    "\n",
    "# 2-2. 리스트 컴프리헨션으로 작성\n",
    "expensive = [p for p in prices if p > 10000]\n",
    "# expensive = list(filter(lambda p : p>=10000, prices))\n",
    "\n",
    "# 2-3. 두 리스트 비교하기\n",
    "print(f\"일반for문: {expensive_for}\")\n",
    "print(f\"컴프리헨션: {expensive}\")\n",
    "\n",
    "## 3. 차등 할인 적용하기\n",
    "# 3-1. 일반 for문으로 작성\n",
    "dynamic_sale_for = []\n",
    "for price in prices:\n",
    "    if price >= 20000:\n",
    "        dynamic_sale_for.append(int(price * 0.8))\n",
    "    else:\n",
    "        dynamic_sale_for.append(int(price * 0.9))\n",
    "\n",
    "# 3-2. 리스트 컴프리헨션으로 변환\n",
    "dynamic_sale = [int(p*0.8) if price >= 20000 else int(p*0.9) for p in prices ]\n",
    "\n",
    "# 3-3. 두 리스트 비교하기\n",
    "print(f\"일반for문: {dynamic_sale_for}\")\n",
    "print(f\"컴프리헨션: {dynamic_sale}\")"
   ]
  },
  {
   "cell_type": "code",
   "execution_count": null,
   "id": "97a4f18b",
   "metadata": {},
   "outputs": [],
   "source": []
  }
 ],
 "metadata": {
  "kernelspec": {
   "display_name": "pb",
   "language": "python",
   "name": "python3"
  },
  "language_info": {
   "codemirror_mode": {
    "name": "ipython",
    "version": 3
   },
   "file_extension": ".py",
   "mimetype": "text/x-python",
   "name": "python",
   "nbconvert_exporter": "python",
   "pygments_lexer": "ipython3",
   "version": "3.10.16"
  }
 },
 "nbformat": 4,
 "nbformat_minor": 5
}
