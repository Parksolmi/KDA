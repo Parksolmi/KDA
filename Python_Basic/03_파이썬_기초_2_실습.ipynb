{
  "nbformat": 4,
  "nbformat_minor": 0,
  "metadata": {
    "colab": {
      "provenance": []
    },
    "kernelspec": {
      "name": "python3",
      "display_name": "Python 3"
    },
    "language_info": {
      "name": "python"
    }
  },
  "cells": [
    {
      "cell_type": "markdown",
      "source": [
        "---\n",
        "# 24. **점수 중 최고는? 최저는?** | `max()`, `min()` 함수\n",
        "\n",
        "5명의 학생이 시험을 봤습니다.  \n",
        "각 학생의 점수를 튜플에 담아두고,  \n",
        "**가장 높은 점수(최댓값)**와 **가장 낮은 점수(최솟값)**를 구해보세요!\n",
        "\n",
        "\n",
        "### 🍎 **출력 예시**\n",
        "```\n",
        "최고 점수: 98\n",
        "최저 점수: 62\n",
        "```\n",
        "\n",
        "\n",
        "### 🤔 **지시사항**\n",
        "1. 학생 점수 5개를 담은 튜플 `scores`를 선언하세요. (숫자 5개 자유롭게)\n",
        "2. `max()` 함수를 이용하여 최고 점수를 구하고 변수 `high`에 저장하세요.\n",
        "3. `min()` 함수를 이용하여 최저 점수를 구하고 변수 `low`에 저장하세요.\n",
        "4. 두 값을 `print()`로 출력해보세요.\n"
      ],
      "metadata": {
        "id": "1k67Nn6CZVix"
      }
    },
    {
      "cell_type": "code",
      "source": [
        "# 점수 5개가 담긴 튜플을 선언해봅시다.\n",
        "scores = ( )\n",
        "\n",
        "# 최고 점수를 구해서 high에 저장해봅시다.\n",
        "high =\n",
        "\n",
        "# 최저 점수를 구해서 low에 저장해봅시다.\n",
        "low =\n",
        "\n",
        "# 결과를 출력해봅시다.\n",
        "print(\"최고 점수:\", high)\n",
        "print(\"최저 점수:\", low)"
      ],
      "metadata": {
        "id": "Qop1qNngZak9"
      },
      "execution_count": null,
      "outputs": []
    },
    {
      "cell_type": "markdown",
      "source": [
        "---\n",
        "# 25. **우리 반 평균은?** | `sum()`, `len()`, 평균 계산\n",
        "\n",
        "이번 시험에서 우리 반 학생 5명의 점수가 아래와 같습니다.  \n",
        "이 점수들을 리스트에 담고, **총점과 평균**을 구해봅시다!\n",
        "\n",
        "\n",
        "\n",
        "### 🍎 **출력 예시**\n",
        "```\n",
        "총점: 377\n",
        "평균: 75.4\n",
        "```\n",
        "\n",
        "\n",
        "\n",
        "### 🤔 **지시사항**\n",
        "1. 5명의 시험 점수를 리스트 `scores`에 담아봅시다. (숫자 5개 자유롭게)\n",
        "2. `sum()`을 이용해 점수의 총합을 구하고 변수 `total`에 저장해보세요.\n",
        "3. `len()`을 이용해 점수의 개수를 구하고 변수 `count`에 저장해보세요.\n",
        "4. `total`을 `count`로 나누어 평균을 구하고 변수 `avg`에 저장하세요.\n",
        "5. 총점과 평균을 출력해보세요.\n",
        "\n"
      ],
      "metadata": {
        "id": "njj48vCFZtvB"
      }
    },
    {
      "cell_type": "code",
      "execution_count": null,
      "metadata": {
        "id": "j5D5IS8ZZJpa"
      },
      "outputs": [],
      "source": [
        "# 점수 리스트를 만들어봅시다.\n",
        "scores = [ ]\n",
        "\n",
        "# 총점을 구해서 total에 저장해봅시다.\n",
        "total =\n",
        "\n",
        "# 점수 개수를 구해서 count에 저장해봅시다.\n",
        "count =\n",
        "\n",
        "# 평균을 구해서 avg에 저장해봅시다.\n",
        "avg =\n",
        "\n",
        "# 출력해봅시다.\n",
        "print(\"총점:\", total)\n",
        "print(\"평균:\", avg)"
      ]
    },
    {
      "cell_type": "markdown",
      "source": [
        "---\n",
        "# 26. **돌려주는 함수, 그냥 출력하는 함수!** | return의 역할\n",
        "\n",
        "함수는 어떤 작업을 수행하고, 그 결과를 출력하거나 돌려줄 수 있습니다.  \n",
        "특히 `return` 키워드를 사용하면, 함수 바깥으로 결과를 전달할 수 있죠.  \n",
        "하지만 `return`을 사용하지 않으면 함수 안에서 계산만 하고 끝나게 됩니다.\n",
        "\n",
        "그럼, return이 있을 때와 없을 때의 차이를 직접 느껴볼까요?\n",
        "\n",
        "### 🤔 **지시사항**\n",
        "1. 함수 `no_return(a, b)`를 만들어봅니다.  \n",
        "   - 매개변수 a와 b를 더한 값을 `print()`로 출력합니다.  \n",
        "   - `return`은 사용하지 않습니다.\n",
        "2. 함수 `yes_return(a, b)`를 만들어봅니다.  \n",
        "   - 매개변수 a와 b를 곱한 값을 `return`으로 반환합니다.\n",
        "\n",
        "### 😆 **조건 기준**\n",
        "- 하나의 함수는 `return` 없이 출력만 수행해야 합니다.\n",
        "- 다른 함수는 `return`으로 값을 돌려준 뒤, 바깥에서 출력해야 합니다.\n"
      ],
      "metadata": {
        "id": "nqIR2--AJvTj"
      }
    },
    {
      "cell_type": "code",
      "source": [
        "# 1. 매개변수 a, b를 더한 결과를 print만 하는 함수 no_return을 정의해봅시다.\n",
        "\n",
        "\n",
        "# 2. 매개변수 a, b를 곱한 결과를 return으로 돌려주는 함수 yes_return을 정의해봅시다.\n",
        "\n",
        "\n",
        "# 3. 두 함수를 호출해보고 출력 결과를 주석에 작성합시다.\n",
        "no_return(3, 4)         # 결과 1:\n",
        "print(no_return(3, 4))  # 결과 2:\n",
        "print(yes_return(3, 4)) # 결과 3:"
      ],
      "metadata": {
        "id": "MZikSPIWJuhT"
      },
      "execution_count": null,
      "outputs": []
    },
    {
      "cell_type": "markdown",
      "source": [
        "---\n",
        "# 27. **전역 변수와 지역 변수의 차이** | 변수의 범위\n",
        "\n",
        "하루에 몇 끼를 먹는지 궁금한 친구가 있습니다.\n",
        "친구는 전역 변수 `meal`에 \"하루에 3끼!\" 라고 저장해두었습니다.\n",
        "그런데 함수 안에서 `meal`에 또 다른 값을 넣으면 어떤 일이 생길까요?\n",
        "\n",
        "### 🤔 **지시사항**\n",
        "1. 전역 변수 meal에 문자열 \"하루에 3끼!\"를 저장하세요.\n",
        "2. 함수 `diet()`를 정의하고, 그 안에서 변수 `meal`에 \"오늘은 2끼만!\"을 저장한 후 출력해보세요.\n",
        "3. 함수 diet()를 호출합니다.\n",
        "4. 함수 호출이 끝난 뒤, 다시 변수 meal을 출력해보세요.\n",
        "\n",
        "### 🍎 **출력 예시**\n",
        "```\n",
        "함수 안: 오늘은 2끼만!\n",
        "함수 밖: 하루에 3끼!\n",
        "```"
      ],
      "metadata": {
        "id": "SFzItMtzUHzL"
      }
    },
    {
      "cell_type": "code",
      "source": [
        "# 1. 전역 변수 meal에 값을 저장합니다.\n",
        "meal = \"하루에 3끼!\"\n",
        "\n",
        "# 2. diet() 함수를 정의하고, 함수 안에서 meal 값을 변경해봅니다.\n",
        "def diet():\n",
        "    # 지역 변수 meal을 정의하고 출력해보세요.\n",
        "    print(\"함수 안:\", meal)\n",
        "\n",
        "# 3. 함수를 호출해봅시다.\n",
        "diet()\n",
        "\n",
        "# 4. 함수 밖에서 다시 meal 값을 출력해봅시다.\n",
        "print(\"함수 밖:\", meal)"
      ],
      "metadata": {
        "id": "3fDl_dRYUW1-"
      },
      "execution_count": null,
      "outputs": []
    },
    {
      "cell_type": "markdown",
      "source": [
        "---\n",
        "# 28. **문자열에도 친구가 있다!** | 문자열 메서드\n",
        "\n",
        "문자열 자료형에도 사용할 수 있는 메서드가 있습니다.  \n",
        "그중 `upper()`와 `replace()`는 문자열을 조작할 때 자주 사용됩니다.\n",
        "\n",
        "- `문자열.upper()` : 모든 문자를 대문자로 변환  \n",
        "- `문자열.replace(old, new)` : 특정 문자열을 다른 문자열로 교체\n",
        "\n",
        "### 🤔 **지시사항**\n",
        "1. 문자열 `\"python is fun\"`을 담은 변수 `text`를 선언하세요.\n",
        "2. 변수 `text`에 `upper()` 메서드를 사용하여 변수 `text_upper`에 저장하세요.\n",
        "3. 변수 `text`에 `replace()` 메서드를 사용하여 `\"fun\"`을 `\"awesome\"`으로 바꾼 값을 변수 `text_replaced`에 저장하세요.\n",
        "4. 세 변수 `text`, `text_upper`, `text_replaced`를 차례대로 출력해보세요.\n",
        "\n",
        "### 🍎 **출력 예시**\n",
        "\n",
        "```\n",
        "python is fun\n",
        "PYTHON IS FUN\n",
        "python is awesome\n",
        "```\n"
      ],
      "metadata": {
        "id": "9TFG47J2acGO"
      }
    },
    {
      "cell_type": "code",
      "source": [
        "# 1. 문자열을 담은 변수를 선언해봅시다.\n",
        "text = \"python is fun\"\n",
        "\n",
        "# 2. upper 메서드를 이용해 대문자로 만들어봅시다.\n",
        "\n",
        "\n",
        "# 3. replace 메서드를 이용해 일부 단어를 바꿔봅시다.\n",
        "\n",
        "\n",
        "# 4. 세 변수를 차례대로 출력해봅시다."
      ],
      "metadata": {
        "id": "ZqdNuuJ5aj3N"
      },
      "execution_count": null,
      "outputs": []
    },
    {
      "cell_type": "markdown",
      "source": [
        "---\n",
        "# 29. **함수를 부르는 순간! 인자가 필요해요** | 매개변수와 인자의 차이\n",
        "\n",
        "함수를 만들 때 괄호 안에 들어가는 변수는 **매개변수**입니다.  \n",
        "함수를 사용할 때 괄호 안에 넘겨주는 값은 **인자**입니다.\n",
        "\n",
        "예를 들어 다음 코드를 보세요:\n",
        "\n",
        "```python\n",
        "def greet(name):  # name은 매개변수\n",
        "    print(\"안녕하세요,\", name)\n",
        "\n",
        "greet(\"지수\")      # \"지수\"는 인자\n",
        "```\n",
        "이처럼 함수를 정의할 때와 호출할 때 사용하는 값은 서로 다른 역할을 해요.\n",
        "\n",
        "### 🤔 **지시사항**\n",
        "1. 이름을 인사하는 함수 `say_hello()`를 정의하세요. 이 함수의 매개변수는 `name`입니다.\n",
        "2. 함수 내부에서는 \"안녕하세요, (`name`)님!\"을 출력해보세요.\n",
        "3. 이 함수에 인자 \"태호\"를 넣어 호출해보세요.\n",
        "4. 이어서 인자 \"지민\"도 넣어 호출해보세요.\n",
        "\n",
        "### 🍎 **출력 예시**\n",
        "```\n",
        "안녕하세요, 태호님!\n",
        "안녕하세요, 지민님!\n",
        "```\n"
      ],
      "metadata": {
        "id": "-E2WemQfarAe"
      }
    },
    {
      "cell_type": "code",
      "source": [
        "# 1. 매개변수 name을 가진 함수 say_hello를 정의해봅시다.\n",
        "\n",
        "\n",
        "    # 2. 함수 내부에서 인사 메시지를 출력해봅시다.\n",
        "\n",
        "\n",
        "# 3. 인자 \"태호\"를 넣어 함수를 호출해보세요.\n",
        "\n",
        "\n",
        "# 4. 인자 \"지민\"도 넣어 함수를 호출해보세요.\n"
      ],
      "metadata": {
        "id": "hcbFUYrLliJg"
      },
      "execution_count": null,
      "outputs": []
    },
    {
      "cell_type": "markdown",
      "source": [
        "---\n",
        "# 30. **내장 함수가 기억이 안 난다구요? 직접 함수를 만들어봐요!** | 함수 정의하기\n",
        "이번 실습에서는 직접 최솟값 구하는 함수 `my_min()` 함수를 구현해봅시다!\n",
        "\n",
        "### 🤔 **지시사항**\n",
        "1. 내장함수 `min()`를 사용하지 않고, 어떤 리스트를 입력하면 그 리스트의 최솟값을 반환(return) 하는 함수 my_min()를 만들어봅시다.\n",
        "\n",
        "### 🍎 **출력 예시**\n",
        "- `my_min()` 함수를 만들 때 `list.sort()`를 사용할 수 있습니다.\n",
        "- `list.sort()` : list를 정렬하여 반환하는 메서드"
      ],
      "metadata": {
        "id": "4ZlS2ON_l51r"
      }
    },
    {
      "cell_type": "code",
      "source": [
        "# 리스트 nums를 넣었을 때, 최댓값을 반환(return)하는 함수 my_min을 작성해봅시다.\n",
        "\n",
        "print(my_min([4, 19, 30, 48, 12, 93, 20, 0, 23, 82]))"
      ],
      "metadata": {
        "id": "s1JytWoKmDZj"
      },
      "execution_count": null,
      "outputs": []
    },
    {
      "cell_type": "markdown",
      "source": [
        "---\n",
        "# 31. **첫 책 발간하기** | 클래스와 인스턴스\n",
        "이번 실습에서는 책 데이터와 작가 데이터를 클래스로 구현해 보겠습니다. 나를 작가로 등록하고, 책을 작성하면서 클래스와 인스턴스의 개념들을 익혀 봅시다.\n",
        "\n",
        "가장 기본적인 기능인 책 클래스를 구현해 봅니다. 책 클래스는 다음과 같은 조건들을 만족해야 합니다.\n",
        "\n",
        "- `Book` 클래스의 속성으로 책의 제목(`title`), 작가(`author`), 좋아요 수(`likes`), 리뷰의 리스트(`reviews`)를 가집니다.\n",
        "- 생성자의 매개변수로 제목과 작가를 받아 그 값을 속성에 저장합니다.\n",
        "    - `self.title`에는 길이가 1 이상인 문자열(책제목)이 저장됩니다.\n",
        "    - `self.author`에는 `Author` 클래스의 인스턴스(작가)가 저장됩니다.\n",
        "- 조건에 알맞은 값이 입력된다고 가정하므로, 검증의 단계는 생략해도 됩니다.\n",
        "- 책 생성 시점에 리뷰의 리스트는 비어 있고, 좋아요는 하나도 없어야 합니다.\n",
        "\n",
        "\n",
        "### 🤔 **지시사항**\n",
        "1. 조건에 맞게 클래스를 정의했다면, 새로운 인스턴스를 만들어 봅시다.\n",
        "2. 게시물을 작성하기 위해서는 `Author` 인스턴스가 필요합니다. `me` 라는 작가가 이미 정의되어 있습니다.   \n",
        "3. 새로 생성하는 인스턴스 `my_book`의 저자는 `me`라는 작가가 되게 해보세요.\n"
      ],
      "metadata": {
        "id": "DmpRcFu2zquT"
      }
    },
    {
      "cell_type": "code",
      "source": [
        "class Author:\n",
        "    def __init__(self, name):\n",
        "        self.name = name\n",
        "\n",
        "class Book:\n",
        "    # 생성자는 매개변수로 제목과 작가이름을 받아\n",
        "    # 그 값을 클래스의 속성에 저장합니다.\n",
        "    def __init__(self, title, author):\n",
        "\n",
        "        # 속성들을 초기화 합니다\n",
        "        self.title = title\n",
        "        self.author = author\n",
        "\n",
        "        # 아래의 코드를 수정하세요.\n",
        "        self.likes = None\n",
        "        self.reviews = None\n",
        "\n",
        "# 새로운 작가 me를 생성합니다.\n",
        "me = Author(\"Hermann Hesse\")\n",
        "\n",
        "# 아래에 자유롭게 인스턴스를 생성하고 테스트해 보세요.\n",
        "my_book = Book(\"Demian\", me)\n",
        "print(my_book.title)"
      ],
      "metadata": {
        "id": "tQlHhoX4rrqH"
      },
      "execution_count": null,
      "outputs": []
    },
    {
      "cell_type": "markdown",
      "source": [
        "---\n",
        "# 32. **좋아요 누르기** | 메서드\n",
        "\n",
        "앞에서 만든 Book 클래스에 중요한 기능인 좋아요를 추가해 봅시다.\n",
        "작가들은 서로의 책에 자유롭게 좋아요를 남길 수 있어야 합니다.\n",
        "\n",
        "이번에 추가할 기능은 다음과 같습니다:\n",
        "\n",
        "- likes 속성은 좋아요를 누른 작가들의 리스트를 의미합니다. 좋아요를 누른 순서가 그대로 유지되어야 합니다.\n",
        "- 좋아요 수를 알고 싶을 때 사용할 수 있도록, num_likes() 메서드를 추가합니다.\n",
        "- like() 메서드는 Author 클래스의 인스턴스를 인자로 받아, 해당 작가가 이 책에 좋아요를 남기도록 합니다.\n",
        "    - 만약 이미 좋아요를 눌렀던 작가라면, 중복해서 추가되지 않도록 처리하세요.\n",
        "\n",
        "조건에 맞게 Book 클래스를 완성한 뒤, 직접 인스턴스를 만들어 기능을 테스트해 보세요.\n",
        "\n"
      ],
      "metadata": {
        "id": "Eajropfds92r"
      }
    },
    {
      "cell_type": "code",
      "source": [
        "class Author:\n",
        "    def __init__(self, name):\n",
        "        self.name = name\n",
        "\n",
        "class Book:\n",
        "    # 생성자는 매개변수로 제목과 작가이름을 받아\n",
        "    # 그 값을 클래스의 속성에 저장합니다.\n",
        "    def __init__(self, title, author):\n",
        "\n",
        "        # 속성들을 초기화 합니다\n",
        "        self.title = title\n",
        "        self.author = author\n",
        "\n",
        "        # 아래의 코드를 수정하세요.\n",
        "        self.likes = None\n",
        "\n",
        "    # num_likes 메소드를 생성합니다.\n",
        "    # 아래의 코드를 수정해서 메소드를 완성하세요.\n",
        "    def num_likes(None):\n",
        "        pass\n",
        "\n",
        "    # like 메소드를 생성합니다.\n",
        "    # 아래의 코드를 수정해서 메소드를 완성하세요.\n",
        "    def like(None):\n",
        "        pass\n",
        "\n",
        "\n",
        "# 새로운 작가 me를 생성합니다.\n",
        "me = Author(\"Hermann Hesse\")\n",
        "\n",
        "# 아래에 자유롭게 인스턴스를 생성하고 테스트해 보세요.\n",
        "my_book =\n",
        "print(my_book.title)"
      ],
      "metadata": {
        "id": "GrTZnXeftqsn"
      },
      "execution_count": null,
      "outputs": []
    },
    {
      "cell_type": "markdown",
      "source": [
        "---\n",
        "# 33. **전자책 발간하기** | 클래스 상속\n",
        "이번에는 웹사이트 주소가 포함된 전자책(`EBook`) 클래스를 만들어 봅시다.\n",
        "\n",
        "`EBook` 클래스는 다음 조건을 만족해야 합니다:\n",
        "\n",
        "- 기존의 `Book`를 상속받습니다.\n",
        "- 전자책 파일이 저장된 웹 주소(url)를 나타내는 문자열 속성 `url`을 가집니다. 예: `\"http://...\"`\n",
        "- 전자책 링크를 클릭했을 때의 동작을 정의하는 `on_click()` 메서드를 가집니다.\n",
        "\n",
        "`EBook`의 생성자는 `title`, `author`, `file_url` 세 개의 값을 순서대로 전달받아야 합니다.   \n",
        "(이 실습에서는 `author`와 `book`이 어떤 타입인지 검사하지 않아도 됩니다.)\n",
        "\n",
        "웹 주소는 반드시 `\"http://\"` 또는 `\"https://\"`로 시작해야 하며,   \n",
        "그렇지 않은 경우에는 `ValueError`를 발생시켜야 합니다.   \n",
        "주소 형식 검사는 문자열 메서드 `.startswith()`를 사용해 확인할 수 있습니다.\n",
        "\n",
        "`on_click()` 메서드에서는 미리 제공된 `go_to(link)` 함수를 호출합니다.   \n",
        "이 함수는 전달받은 링크를 출력하는 역할을 합니다.\n",
        "\n",
        "\n",
        "\n",
        "### 😆 **Hints!**\n",
        "\n",
        "- `ValueError`를 일으키는 방법\n",
        "```\n",
        "if 조건:\n",
        "  raise ValueError(\"올바르지 않은 주소 형식입니다.\")\n",
        "```"
      ],
      "metadata": {
        "id": "Mai90Fi76To3"
      }
    },
    {
      "cell_type": "code",
      "source": [
        "def go_to(link):\n",
        "    print(f\"{link}로 이동합니다.\")\n",
        "\n",
        "class Book:\n",
        "    def __init__(self, title, author):\n",
        "        self.title = title\n",
        "        self.author = author\n",
        "\n",
        "\n",
        "# 아래에 EBook 클래스 선언합니다.\n",
        "class EBook(Book):\n",
        "    # 아래의 코드를 수정하여 올바른 생성자를 완성하세요\n",
        "    def __init__(None, None, None, None):\n",
        "        super().__init__(title, other)\n",
        "\n",
        "        valid_url = url.startswith(\"http://\") or url.startswith(\"https://\")\n",
        "        if valid_url:\n",
        "            self.url = url\n",
        "        else:\n",
        "            raise ValueError(\"올바르지 않은 주소 형식입니다.\")\n",
        "\n",
        "    # 아래에 on_click() 메서드를 구현하세요\n",
        "\n",
        "demian = EBook(\"Demian\", \"Hermann Hesse\", \"https://ebook-product.co.kr/demian\")"
      ],
      "metadata": {
        "id": "2ZxtNiKw6TWp"
      },
      "execution_count": null,
      "outputs": []
    },
    {
      "cell_type": "markdown",
      "source": [
        "---\n",
        "# 34. **책에 대한 호불호 표시하기** | 클래스 상속\n",
        "책에 대해 사람들은 단순한 '좋아요' 외에도 다양한 감정을 표현할 수 있습니다.   \n",
        "예를 들어, \"별로예요\", \"감동적이에요\", \"보기 어려웠어요\" 같은 반응도 가능하죠.   \n",
        "\n",
        "이처럼 서로 다른 반응들은 공통된 속성을 공유하면서도,   \n",
        "각각 고유한 의미를 갖고 있기 때문에, 이를 표현할 때 클래스 상속을 활용하는 것이 적절합니다.   \n",
        "\n",
        "### 🧱 **기본 클래스 `Reaction`**\n",
        "\n",
        "먼저, 모든 반응의 공통 기반이 되는 Reaction 클래스를 정의합니다.\n",
        "이 클래스는 다음의 세 가지 속성을 가집니다:\n",
        "- `reaction_type`: 반응의 종류 (예: \"LIKE\", \"DISLIKE\", \"TOUCHED\" 등)   \n",
        "→ \"LIKE”, \"DISLIKE\", \"TOUCHED\", \"MOTIVATED\", \"DIFFICULT\", \"BEAUTIFUL\" 중 하나만 허용됩니다.   \n",
        "이 외의 값이 들어오면 ValueError를 발생시켜야 합니다.\n",
        "- `post`: 반응을 남긴 대상인 책. 반드시 `Book` 인스턴스여야 하며, 그렇지 않으면 `TypeError`를 발생시킵니다.\n",
        "- `user`: 반응을 남긴 사용자(작가). 반드시 `Author` 인스턴스여야 하며, 그렇지 않으면 `TypeError`를 발생시킵니다.\n",
        "\n",
        "\n",
        "### 🍎 **구현 사항**\n",
        "1. `Reaction` 클래스를 상속받는 자식 클래스 `Like`(좋아요)와 `Dislike`(별로예요)를 정의합니다.\n",
        "2. `Reaction` 인스턴스가 생성될 때마다 해당 책의 `reactions` 속성(리스트)에 자기 자신을 추가해야 합니다.\n",
        "3. `Like`와 `Dislike`는 모두 `book`과 `user` 두 개의 인자를 받아 생성되며,   \n",
        "각각 `reaction_type`을 \"LIKE\"와 \"DISLIKE\"로 설정해야 합니다.\n",
        "4. `Like`가 생성되면 책의 `positive_reactions` 값을 1 증가시키고,   \n",
        "`Dislike`가 생성되면 책의 `negative_reactions` 값을 1 증가시켜야 합니다.\n",
        "\n",
        "### 😆 **Hints!**\n",
        "**예외 코드 발생 시**\n",
        "```python\n",
        "if 조건:\n",
        "    raise ValueError(\"표시 할 텍스트\")\n",
        "\n",
        "if 조건:\n",
        "    raise TypeError(\"표시 할 텍스트\")\n",
        "```"
      ],
      "metadata": {
        "id": "n6AufUmyDu56"
      }
    },
    {
      "cell_type": "code",
      "source": [
        "class Author:\n",
        "    def __init__(self, name):\n",
        "        self.name = name\n",
        "\n",
        "class Book:\n",
        "    def __init__(self, title):\n",
        "        self.title = title\n",
        "        self.reactions = []\n",
        "        self.positive_reactions = 0\n",
        "        self.negative_reactions = 0\n",
        "\n",
        "class Reaction:\n",
        "    # 아래 코드의 빈 부분을 완성합니다.\n",
        "    def __init__(self, reaction_type, book, user):\n",
        "        if reaction_type not in [\"LIKE\", \"DISLIKE\", \"TOUCHED\", \"MOTIVATED\", \"DIFFICULT\", \"BEAUTIFUL\"]:\n",
        "            ...\n",
        "        if not isinstance(book, Book):\n",
        "            ...\n",
        "        if not isinstance(user, Author):\n",
        "            ...\n",
        "\n",
        "        self.reaction_type = reaction_type\n",
        "        self.book = book\n",
        "        self.user = user\n",
        "        self.book.reactions.append(self.user.name)\n",
        "\n",
        "# 아래 코드의 빈 부분을 완성합니다.\n",
        "class Like(Reaction):\n",
        "    def __init__(self, book, user):\n",
        "        super().__init__(\"LIKE\", book, user)\n",
        "        ...\n",
        "\n",
        "\n",
        "class Dislike(Reaction):\n",
        "    # 아래 코드의 빈 부분을 완성합니다.\n",
        "    def __init__(self, book, user):\n",
        "        ...\n",
        "        ...\n",
        "\n",
        "my_book = Book(\"my book\")\n",
        "me = Author(\"Hermann Hesse\")\n",
        "like = Like(my_book, me)\n",
        "print(like.book.title)\n",
        "print(like.book.positive_reactions)\n"
      ],
      "metadata": {
        "id": "oq9GkEOSEz8O"
      },
      "execution_count": null,
      "outputs": []
    },
    {
      "cell_type": "markdown",
      "source": [
        "---\n",
        "# 35. **시크릿 책 만들기** | 오버라이딩\n",
        "이번에는 함수 오버라이딩을 직접 활용해 보겠습니다.   \n",
        "오버라이딩이란, 자식 클래스에서 부모 클래스의 메서드를 같은 이름으로 다시 정의하는 것을 말합니다.\n",
        "\n",
        "`Book` 클래스는 일반 책을 나타내며, 다음과 같은 속성을 가집니다:\n",
        "- 책 제목 `title`\n",
        "- 작가 `author`\n",
        "- 책을 공유한 사용자 목록 `shared_users`\n",
        "- 나만 보기 설정 여부 `is_private` (기본값은 False)\n",
        "\n",
        "이제 Book을 상속받는 PrivateBook 클래스를 만들어 보세요.   \n",
        "이 클래스는 나만 보기로 설정된 책을 의미하며, 다음 조건을 만족해야 합니다:   \n",
        "\n",
        "- 인스턴스를 생성하면 is_private 속성은 자동으로 True로 설정됩니다.\n",
        "- `share()` 메서드가 호출되면, 공유되지 않고 `TypeError`와 함께 적절한 메시지를 출력해야 합니다.\n",
        "\n",
        "함수 오버라이딩을 통해 위 조건을 만족하는 `PrivateBook` 클래스를 완성해 보세요!\n",
        "\n"
      ],
      "metadata": {
        "id": "RIydlZcGEze0"
      }
    },
    {
      "cell_type": "code",
      "source": [
        "class Book:\n",
        "    def __init__(self, title, author):\n",
        "        self.title = title\n",
        "        self.author = author\n",
        "        self.shared_users = []\n",
        "        self.is_private = False\n",
        "\n",
        "    def share(self, user):\n",
        "        self.shared_users.append(user)\n",
        "\n",
        "\n",
        "class Private(Book):\n",
        "    # 생성자를 구현합니다.\n",
        "    # is_private 속성을 True 로 설정합니다.\n",
        "    def __init__(self, title, author):\n",
        "        pass\n",
        "\n",
        "    # share 메소드를 호출 시 TypeError를 발생시킵니다.\n",
        "    def share(self, user):\n",
        "        pass\n"
      ],
      "metadata": {
        "id": "PczJpVqmIF02"
      },
      "execution_count": null,
      "outputs": []
    },
    {
      "cell_type": "markdown",
      "source": [
        "---\n",
        "# 36. **쇼핑 스타일 파악하기 1** | 디버깅\n",
        "\n",
        "마트에서 장을 본 뒤, 내가 구매하는 물건들의 평균 금액을 알아보기 위해, 영수증을 입력하면 **평균 가격**을 출력하는 프로그램을 만들려고 합니다.\n",
        "\n",
        "`get_average_price()` 함수는 각 물건의 가격을 리스트로 받아, 그 평균을 `return`하는 함수입니다.\n",
        "\n",
        "모든 가격 데이터는 \"XXX원\"과 같은 문자열 형식으로 되어 있습니다.\n",
        "\n",
        "```python\n",
        "get_average_price(['5000원', '250원', '17000원'])\n",
        ">>> '7416원'\n",
        "```\n",
        "\n",
        "하지만 애써 만든 코드가 잘 작동하지 않는 것 같네요.\n",
        "코드를 조금 수정해서, 원하는 대로 작동하도록 만들어주세요.\n",
        "\n",
        "### 🤔 **문제 조건**\n",
        "- 매개변수로 주어지는 리스트에는 반드시 1개 이상의 가격이 포함되어 있다고 가정합니다.\n",
        "- 소수점 이하는 무시하고 정수값으로 반환해보세요."
      ],
      "metadata": {
        "id": "VB69UZuRVzKs"
      }
    },
    {
      "cell_type": "code",
      "source": [
        "def get_average_price(prices):\n",
        "    price_sum = 0\n",
        "    for price in prices:\n",
        "        # '원'이라는 글자를 제거합니다.\n",
        "        price_num = price[:-1]\n",
        "\n",
        "        # 아래 코드들을 수정하거나 추가하세요.\n",
        "        price_sum += price_num\n",
        "\n",
        "    average_price = price_sum / len(prices)\n",
        "    return None\n",
        "\n",
        "get_average_price(['5000원', '250원', '17000원'])"
      ],
      "metadata": {
        "id": "IboAHGAbYY_I"
      },
      "execution_count": null,
      "outputs": []
    },
    {
      "cell_type": "markdown",
      "source": [
        "---\n",
        "# 37. **쇼핑 내역 계산하기 2** | 여러 상황에 대응하기\n",
        "\n",
        "여러분이 쇼핑 내역을 잘 정리해준다는 소문이 퍼졌는지, 친구들이 각자 영수증을 들고 와 계산을 부탁하고 있어요.   \n",
        "그런데 이번에는 조금 까다로운 상황이 생겼습니다.\n",
        "\n",
        "일부 항목은 사은품이라서 가격이 비어 있거나 빠져 있는 경우도 있었던 거예요!\n",
        "\n",
        "이번 실습에서는 지난 문제에서 작성했던 쇼핑 내역 계산 코드를 조금 더 확장해서,   \n",
        "다양한 상황에 유연하게 대응할 수 있는 코드를 작성해 봅시다.\n",
        "\n",
        "지난 실습에서 작성한 코드를 수정해서, 친구들의 영수증도 계산할 수 있도록 만들어주세요.\n",
        "\n",
        "### 🤔 **조건**\n",
        "- 인자로 주어지는 리스트에는 `\"XXX원\"` 형식의 문자열이나, 빈 문자열 `\"\"`이 섞여 있을 수 있습니다.\n",
        "- 빈 문자열은 무시하고 계산에서 제외하세요.\n",
        "- 가격 정보가 하나도 없는 경우에는 `None`을 return해야 합니다.\n",
        "- 나머지 항목의 가격만 사용해서 평균값을 계산하세요.\n",
        "- 소수점 이하는 무시하고 정수값으로 반환해보세요.\n"
      ],
      "metadata": {
        "id": "LGNStNCpYymV"
      }
    },
    {
      "cell_type": "code",
      "source": [
        "# 아래 코드들을 수정하거나 추가하세요.\n",
        "def get_average_price(prices):\n",
        "    sum_prices = 0\n",
        "\n",
        "    for price in prices:\n",
        "\n",
        "        # '원'이라는 글자를 제거합니다.\n",
        "        price_str = price[:-1]\n",
        "        sum_prices += int(price_str)\n",
        "\n",
        "    average = sum_prices / len(prices)\n",
        "    return str(average) + '원'\n",
        "\n",
        "\n",
        "print(get_average_price(['2000원', '19250원', '3000원']))\n",
        "print(get_average_price(['', '2500원']))\n",
        "print(get_average_price(['', '']))\n"
      ],
      "metadata": {
        "id": "lbfahkYNbRoh"
      },
      "execution_count": null,
      "outputs": []
    },
    {
      "cell_type": "markdown",
      "source": [
        "---\n",
        "# 38. **쇼핑 내역 계산하기 3** | 코드 리팩터링\n",
        "\n",
        "이번 실습에서는 앞서 작성했던 **‘쇼핑 내역 계산하기 2’**의 코드를 리팩터링해 보겠습니다.\n",
        "\n",
        "이전에는 `if` 문을 사용해 예외적인 상황(빈 문자열 등)을 처리했죠.   \n",
        "이번에는 같은 동작을 `try`와 `except` 구문을 사용해 처리해봅시다.\n",
        "\n",
        "`try`와 `except`를 사용하면,\n",
        "예외가 발생할 수 있는 부분을 더 명확하게 구분할 수 있고,\n",
        "코드의 의도를 더욱 분명히 표현할 수 있습니다.\n",
        "\n",
        "**🛠 리팩터링이란?**   \n",
        "기능은 그대로 두되, 코드를 더 깔끔하고 명확하게 바꾸는 작업입니다."
      ],
      "metadata": {
        "id": "bp4g6x_Wc8sS"
      }
    },
    {
      "cell_type": "code",
      "source": [
        "def get_average_price(prices):\n",
        "    sum_prices = 0\n",
        "    valid_price_count = 0\n",
        "\n",
        "    for price in prices:\n",
        "        # 빈 문자열인 경우 세지 않습니다.\n",
        "        if price == '':\n",
        "            price_num = 0\n",
        "\n",
        "        # '원'이라는 글자를 제거합니다.\n",
        "        else:\n",
        "            price_num = int(price[:-1])\n",
        "            valid_price_count += 1\n",
        "\n",
        "        sum_prices += price_num\n",
        "\n",
        "    if valid_price_count == 0:\n",
        "        return None\n",
        "\n",
        "    average = sum_prices / valid_price_count\n",
        "    return str(int(average)) + '원'\n",
        "\n",
        "\n",
        "print(get_average_price(['2000원', '19250원', '3000원']))\n",
        "print(get_average_price(['', '2500원']))\n",
        "print(get_average_price(['', '']))\n"
      ],
      "metadata": {
        "id": "aa9dgPqwdLBo"
      },
      "execution_count": null,
      "outputs": []
    }
  ]
}