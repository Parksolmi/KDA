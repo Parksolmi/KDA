{
 "cells": [
  {
   "cell_type": "code",
   "execution_count": 1,
   "id": "4a96ad4c",
   "metadata": {},
   "outputs": [
    {
     "name": "stdout",
     "output_type": "stream",
     "text": [
      "3\n"
     ]
    }
   ],
   "source": [
    "print(3)"
   ]
  },
  {
   "cell_type": "code",
   "execution_count": 2,
   "id": "ca664c1c",
   "metadata": {},
   "outputs": [
    {
     "data": {
      "text/plain": [
       "[5, 10]"
      ]
     },
     "execution_count": 2,
     "metadata": {},
     "output_type": "execute_result"
    }
   ],
   "source": [
    "b = 5\n",
    "c = 10\n",
    "\n",
    "[b, c]"
   ]
  },
  {
   "cell_type": "code",
   "execution_count": 3,
   "id": "64a3d8c2",
   "metadata": {},
   "outputs": [
    {
     "name": "stdout",
     "output_type": "stream",
     "text": [
      "\n",
      "내 이름은 솔미\n",
      "감자죠\n",
      "\n"
     ]
    }
   ],
   "source": [
    "# 1번\n",
    "\n",
    "print(\"\"\"\n",
    "내 이름은 솔미\n",
    "감자죠\n",
    "\"\"\")"
   ]
  },
  {
   "cell_type": "code",
   "execution_count": 4,
   "id": "624094c4",
   "metadata": {},
   "outputs": [
    {
     "name": "stdout",
     "output_type": "stream",
     "text": [
      "안녕! 난 피터팬 이라고 해.\n",
      "나는 네버랜드 에서 살고 있어.\n",
      "난 넓은 하늘 을 좋아해!\n"
     ]
    }
   ],
   "source": [
    "#2번\n",
    "\n",
    "name = \"피터팬\"\n",
    "area = \"네버랜드\"\n",
    "favorite = \"넓은 하늘\"\n",
    "\n",
    "# print(f\"\"\"안녕! 난 {name} 이라고 해.\n",
    "# 나는 {area} 에서 살고 있어.\n",
    "# 난 {favorite} 을 좋아해!\"\"\")\n",
    "\n",
    "print(\"안녕! 난\", name, \"이라고 해.\")\n",
    "print(\"나는\", area, \"에서 살고 있어.\")\n",
    "print(\"난\", favorite, \"을 좋아해!\")\n"
   ]
  },
  {
   "cell_type": "code",
   "execution_count": 1,
   "id": "ff090677",
   "metadata": {},
   "outputs": [
    {
     "name": "stdout",
     "output_type": "stream",
     "text": [
      "총 이용 요금은 38850 원입니다.\n"
     ]
    }
   ],
   "source": [
    "#3번\n",
    "base_fee = 1500\n",
    "\n",
    "Allex = 4\n",
    "Bella = 6\n",
    "Chris = 7\n",
    "Dana = 3\n",
    "Evan = 8\n",
    "\n",
    "userT_list = [Allex, Bella, Chris, Dana, Evan]\n",
    "result = 0\n",
    "for userT in userT_list:\n",
    "    if userT >= 5 :\n",
    "        result += userT * 1500 * 0.9\n",
    "    else : \n",
    "        result += userT * 1500\n",
    "\n",
    "total_fee = result\n",
    "\n",
    "print(\"총 이용 요금은\", int(total_fee), \"원입니다.\")\n",
    "\n"
   ]
  },
  {
   "cell_type": "code",
   "execution_count": 6,
   "id": "f20af12d",
   "metadata": {},
   "outputs": [
    {
     "name": "stdout",
     "output_type": "stream",
     "text": [
      "3\n",
      "1\n"
     ]
    }
   ],
   "source": [
    "#4번\n",
    "num1 = 10\n",
    "num2 = 3\n",
    "\n",
    "print(num1//num2)\n",
    "print(num1%num2)"
   ]
  },
  {
   "cell_type": "code",
   "execution_count": 7,
   "id": "a3d1fa88",
   "metadata": {},
   "outputs": [
    {
     "name": "stdout",
     "output_type": "stream",
     "text": [
      "야호 야호 야호 공기가 탁 트였다! 공기가 탁 트였다! \n"
     ]
    }
   ],
   "source": [
    "#5번\n",
    "cheer = \"야호 \"\n",
    "message = \"공기가 탁 트였다! \"\n",
    "\n",
    "echo = cheer * 3 + message * 2\n",
    "print(echo)"
   ]
  },
  {
   "cell_type": "code",
   "execution_count": null,
   "id": "4af9119e",
   "metadata": {},
   "outputs": [
    {
     "name": "stdout",
     "output_type": "stream",
     "text": [
      "[42.195, 26.22436295835923]\n"
     ]
    }
   ],
   "source": [
    "#6번\n",
    "km = 42.195\n",
    "mile = km / 1.609\n",
    "distance = [km, mile]\n",
    "print(distance)\n"
   ]
  },
  {
   "cell_type": "code",
   "execution_count": 11,
   "id": "ac7f2f22",
   "metadata": {},
   "outputs": [
    {
     "name": "stdout",
     "output_type": "stream",
     "text": [
      "[ --- 1. 30과 90 출력하기 --- ]\n",
      "30\n",
      "90\n",
      "\n",
      "[ --- 2. 20부터 60까지 출력하기 --- ]\n",
      "[20, 30, 40, 50, 60]\n",
      "\n",
      "[ --- 3. 리스트의 길이 출력하기 --- ]\n",
      "10\n",
      "\n",
      "[ --- 4. 55가 numbers안에 있는지? --- ]\n",
      "False\n"
     ]
    }
   ],
   "source": [
    "#7번\n",
    "numbers = [10, 20, 30, 40, 50, 60, 70, 80, 90, 100]\n",
    "\n",
    "print(\"[ --- 1. 30과 90 출력하기 --- ]\")\n",
    "print(numbers[2])\n",
    "print(numbers[8])\n",
    "\n",
    "print(\"\\n[ --- 2. 20부터 60까지 출력하기 --- ]\")\n",
    "print(numbers[1:6])\n",
    "\n",
    "print(\"\\n[ --- 3. 리스트의 길이 출력하기 --- ]\")\n",
    "print(len(numbers))\n",
    "\n",
    "print(\"\\n[ --- 4. 55가 numbers안에 있는지? --- ]\")\n",
    "print(55 in numbers)"
   ]
  },
  {
   "cell_type": "code",
   "execution_count": 12,
   "id": "766c6a23",
   "metadata": {},
   "outputs": [
    {
     "name": "stdout",
     "output_type": "stream",
     "text": [
      "[ --- 1. my_list 속 시퀀스 인덱싱하기 --- ]\n",
      "d 출력: d\n",
      "33 출력: 33\n",
      "\n",
      "[ --- 2. 도시만 출력하기 --- ]\n",
      "['seoul', 'busan']\n"
     ]
    }
   ],
   "source": [
    "#8번\n",
    "word = 'candy'\n",
    "my_list = ['a', word, [11, 22, 33, 44, 55], 'seoul', 'busan']\n",
    "\n",
    "print(\"[ --- 1. my_list 속 시퀀스 인덱싱하기 --- ]\")\n",
    "# 1. 리스트 my_list만 인덱싱해서 알파벳 'd'와 33을 출력해보세요. None값을 출력할 값으로 수정해주세요.\n",
    "print(\"d 출력:\", word[3])\n",
    "print(\"33 출력:\", my_list[2][2])\n",
    "\n",
    "print(\"\\n[ --- 2. 도시만 출력하기 --- ]\")\n",
    "# 2. 리스트 my_list를 인덱싱하되, 음수 인덱스만을 사용해서 'seoul'과 'busan'을 출력해보세요.\n",
    "print(my_list[-2:])"
   ]
  },
  {
   "cell_type": "code",
   "execution_count": 1,
   "id": "239e047a",
   "metadata": {},
   "outputs": [
    {
     "name": "stdout",
     "output_type": "stream",
     "text": [
      "Sarah의 점수: 92\n",
      "May가 입학한 후 딕셔너리: {'Peter': 85, 'Sarah': 92, 'John': 78, 'May': 99}\n",
      "John의 점수를 수정한 후 딕셔너리: {'Peter': 85, 'Sarah': 92, 'John': 98, 'May': 99}\n",
      "Sarah가 퇴학한 후 딕셔너리: {'Peter': 85, 'John': 98, 'May': 99}\n",
      "is Jake in dict? False\n",
      "is Peter in dict? True\n",
      "모든 학생들의 이름: dict_keys(['Peter', 'John', 'May'])\n",
      "모든 학생들의 점수: dict_values([85, 98, 99])\n",
      "총 학생 수: 3\n"
     ]
    }
   ],
   "source": [
    "#9번\n",
    "\n",
    "# 학생들의 성적 정보를 담은 딕셔너리입니다. 이 코드는 수정하지 마세요.\n",
    "student_scores = {\n",
    "    \"Peter\": 85,\n",
    "    \"Sarah\": 92,\n",
    "    \"John\": 78\n",
    "}\n",
    "\n",
    "# 1. Sarah가 자기 점수를 궁금해 합니다. 딕셔너리 student_scores를 사용해 Sarah의 점수를 출력해보세요.\n",
    "print(f\"Sarah의 점수: {student_scores['Sarah']}\")\n",
    "\n",
    "# 2. 새로운 학생 May가 입학하고 시험을 쳤습니다. 딕셔너리 student_scores에 새로운 학생과 학생의 점수를 추가하고, 딕셔너리를 출력해보세요.\n",
    "student_scores[\"May\"] = 99\n",
    "print(f\"May가 입학한 후 딕셔너리: {student_scores}\")\n",
    "\n",
    "# 3. 채점 과정에 실수가 있었네요. 딕셔너리에서 student_scores에서 John의 점수를 다른 점수로 바꾸어 주세요.\n",
    "student_scores[\"John\"] = 98\n",
    "print(f\"John의 점수를 수정한 후 딕셔너리: {student_scores}\")\n",
    "\n",
    "# 4. Sarah가 돌연 퇴학했습니다. 딕셔너리에서 Sarah의 정보를 삭제해주세요. 딕셔너리에서 아이템을 삭제하려면 del 딕셔너리명[키]를 사용합니다.\n",
    "del student_scores[\"Sarah\"]\n",
    "print(f\"Sarah가 퇴학한 후 딕셔너리: {student_scores}\")\n",
    "\n",
    "# 5. 우리 학교에 Jake가 있었던가요? 우리 학교에 Peter가 있었던가요? 확인해주세요.\n",
    "print(f\"is Jake in dict? {'Jake' in student_scores}\")\n",
    "print(f\"is Peter in dict? {'Peter' in student_scores}\")\n",
    "\n",
    "# 6. 아무래도 모든 학생들의 이름을 확인해야겠습니다. 딕셔너리의 모든 key들을 확인하려면 dictionary명.keys()를 사용합니다.\n",
    "print(f\"모든 학생들의 이름: {student_scores.keys()}\")\n",
    "\n",
    "# 7. 이젠 모든 학생들의 점수를 확인해야겠습니다. 딕셔너리의 모든 value들을 확인하려면 dictionary명.values()를 사용합니다.\n",
    "print(f\"모든 학생들의 점수: {student_scores.values()}\")\n",
    "\n",
    "# 8. 우리 학교는 최정예 학생들로 구성되어 있습니다. 총 몇 명이 있을까요?\n",
    "print(f\"총 학생 수: {len(student_scores)}\")\n"
   ]
  },
  {
   "cell_type": "code",
   "execution_count": 4,
   "id": "da81ac1e",
   "metadata": {},
   "outputs": [
    {
     "name": "stdout",
     "output_type": "stream",
     "text": [
      "🏆 올해의 수상자는 : 수수수수퍼노바\n",
      "입력된 자료형은 <class 'str'> 입니다.\n"
     ]
    }
   ],
   "source": [
    "#10번\n",
    "\n",
    "# 1. input()을 사용해서 수상자 이름을 입력받아 변수 winner에 저장하세요.\n",
    "winner = input(\"수상자를 입력하세요: \")\n",
    "\n",
    "# 2. 수상자를 발표하세요!\n",
    "print(\"🏆 올해의 수상자는 :\", winner)\n",
    "\n",
    "# 3. 입력된 자료형을 확인해보세요.\n",
    "print(\"입력된 자료형은\", type(winner), \"입니다.\")"
   ]
  },
  {
   "cell_type": "code",
   "execution_count": 16,
   "id": "913f7d66",
   "metadata": {},
   "outputs": [
    {
     "name": "stdout",
     "output_type": "stream",
     "text": [
      "짐의 전체 무게는 100.0kg 입니다.\n"
     ]
    }
   ],
   "source": [
    "#11번\n",
    "\n",
    "# 1. input 함수를 사용해 박스 하나의 무게를 입력받습니다.\n",
    "weight_per_box = float(input(\"박스 하나의 무게(kg) : \"))\n",
    "\n",
    "# 2. input 함수를 사용해 박스 개수를 입력받습니다.\n",
    "box_count = int(input(\"박스의 개수 : \"))\n",
    "\n",
    "# 3. 각각 정수형으로 변환한 후 전체 무게를 계산합니다.\n",
    "total_weight = weight_per_box * box_count\n",
    "\n",
    "# 4. 결과 출력\n",
    "print(f\"짐의 전체 무게는 {total_weight}kg 입니다.\")"
   ]
  },
  {
   "cell_type": "code",
   "execution_count": 7,
   "id": "a69975c4",
   "metadata": {},
   "outputs": [
    {
     "name": "stdout",
     "output_type": "stream",
     "text": [
      "False True False\n"
     ]
    }
   ],
   "source": [
    "#12번\n",
    "\n",
    "# 친구 A와 B의 숫자를 비교하여 결과를 저장해 봅시다.\n",
    "A = 12\n",
    "B = 15\n",
    "\n",
    "# 첫 번째는 A == B 비교\n",
    "ans1 = A == B\n",
    "\n",
    "# 두 번째는 A < B 비교\n",
    "ans2 = A < B\n",
    "\n",
    "# 세 번째는 A가 B 이상인지 확인\n",
    "ans3 = A >= B\n",
    "\n",
    "# 결과를 출력해 봅시다.\n",
    "print(ans1, ans2, ans3)"
   ]
  },
  {
   "cell_type": "code",
   "execution_count": 8,
   "id": "aafaa584",
   "metadata": {},
   "outputs": [
    {
     "name": "stdout",
     "output_type": "stream",
     "text": [
      "1번 답변: True, 실제 정답: True\n",
      "2번 답변: True, 실제 정답: True\n",
      "3번 답변: False, 실제 정답: False\n",
      "4번 답변: False, 실제 정답: False\n"
     ]
    }
   ],
   "source": [
    "#13번\n",
    "\n",
    "A = True\n",
    "B = False\n",
    "C = True\n",
    "\n",
    "# 1번\n",
    "ex1 = A or B\n",
    "ans1 = True\n",
    "\n",
    "# 2번\n",
    "ex2 = A and not B\n",
    "ans2 = True\n",
    "\n",
    "# 3번\n",
    "ex3 = B or not C\n",
    "ans3 = False\n",
    "\n",
    "# 3번\n",
    "ex4 = not A or B and not C\n",
    "ans4 = False\n",
    "\n",
    "# 결과를 출력하겠습니다.\n",
    "print(f\"1번 답변: {ans1}, 실제 정답: {ex1}\")\n",
    "print(f\"2번 답변: {ans2}, 실제 정답: {ex2}\")\n",
    "print(f\"3번 답변: {ans3}, 실제 정답: {ex3}\")\n",
    "print(f\"4번 답변: {ans4}, 실제 정답: {ex4}\")"
   ]
  },
  {
   "cell_type": "code",
   "execution_count": 10,
   "id": "49d8a122",
   "metadata": {},
   "outputs": [
    {
     "name": "stdout",
     "output_type": "stream",
     "text": [
      "15세, 입장 가능합니다.\n"
     ]
    }
   ],
   "source": [
    "#14번\n",
    "\n",
    "# input()을 이용해서 나이를 입력받고 변수 age에 저장해봅시다.\n",
    "age = input(\"나이 입력 : \")\n",
    "\n",
    "# if-else문을 이용해서 나이가 15 이상이면 \"(나이)세, 입장 가능합니다.\" 출력\n",
    "# 그렇지 않으면 \"(나이)세, 입장 불가능합니다.\" 출력\n",
    "if int(age) >= 15:\n",
    "    print(f\"{age}세, 입장 가능합니다.\")\n",
    "else :\n",
    "    print(f\"{age}세, 입장 불가능합니다.\")"
   ]
  },
  {
   "cell_type": "code",
   "execution_count": 14,
   "id": "392ed9e8",
   "metadata": {},
   "outputs": [
    {
     "name": "stdout",
     "output_type": "stream",
     "text": [
      "기온이 15도이므로 추천 옷차림은: 자켓\n"
     ]
    }
   ],
   "source": [
    "#15번\n",
    "\n",
    "# 현재 기온을 입력받아 변수 temp에 저장해봅시다.\n",
    "temper = int(input(\"현재 기온 : \"))\n",
    "\n",
    "# if-elif-else문을 사용해 기온에 따라 적절한 옷차림을 출력해봅시다.\n",
    "# 출력 예시: \"기온이 12도이므로 추천 옷차림은: 자켓\"\n",
    "\n",
    "cloth = \"\"\n",
    "if temper >= 20 :\n",
    "    cloth = \"반팔\"\n",
    "elif (temper >= 10 and temper < 20) :\n",
    "    cloth = \"자켓\"\n",
    "else :\n",
    "    cloth = \"코트\"\n",
    "\n",
    "\n",
    "print(f\"기온이 {temper}도이므로 추천 옷차림은: {cloth}\")"
   ]
  },
  {
   "cell_type": "code",
   "execution_count": 41,
   "id": "43a795e7",
   "metadata": {},
   "outputs": [
    {
     "name": "stdout",
     "output_type": "stream",
     "text": [
      "이상 체온 감지: 37.2도\n",
      "이상 체온 감지: 38.2도\n",
      "이상 체온 감지: 38.0도\n",
      "이상 체온 감지: 37.5도\n",
      ">> 36.7\n"
     ]
    }
   ],
   "source": [
    "#16번\n",
    "\n",
    "# 체온 데이터 (단위: 도)\n",
    "temperatures = [36.5, 37.2, 36.8, 38.2, 38.0, 36.9, 37.5, 36.7]\n",
    "\n",
    "# 반복문을 통해 이상 체온만 출력해봅시다.\n",
    "for temper in temperatures:\n",
    "    if temper >= 37:\n",
    "        print(f\"이상 체온 감지: {temper}도\")\n",
    "    # (temper >= 37) and print(f\"이상 체온 감지: {temper}\")\n"
   ]
  },
  {
   "cell_type": "code",
   "execution_count": 24,
   "id": "6fc2e0f7",
   "metadata": {},
   "outputs": [
    {
     "name": "stdout",
     "output_type": "stream",
     "text": [
      "2\n",
      "4\n",
      "6\n",
      "8\n",
      "10\n",
      "12\n",
      "14\n",
      "16\n",
      "18\n",
      "20\n"
     ]
    }
   ],
   "source": [
    "#17번\n",
    "\n",
    "# range()를 이용해 2부터 20까지 짝수만 출력하는 반복문을 작성해봅시다.\n",
    "for r in list(range(2, 21, 2)):\n",
    "    print(r)\n",
    "\n",
    "# 왜 마지막 숫자가 22가 아닌지, 주석으로 설명해봅시다.\n",
    "# 21을 끝 숫자로 범위를 지정했기 때문에 20까지만 출력합니다."
   ]
  },
  {
   "cell_type": "code",
   "execution_count": 40,
   "id": "8ef97ddc",
   "metadata": {},
   "outputs": [
    {
     "name": "stdout",
     "output_type": "stream",
     "text": [
      "파이썬 최고!\n",
      "파이썬 최고!\n",
      "파이썬 최고!\n",
      "파이썬 최고!\n",
      "파이썬 최고!\n",
      "파이썬 최고!\n",
      "파이썬 최고!\n"
     ]
    }
   ],
   "source": [
    "#18번\n",
    "\n",
    "#_는 사용하지 않는 변수명으로 통상적 이용\n",
    "for _ in range(7):\n",
    "    print(\"파이썬 최고!\")\n"
   ]
  },
  {
   "cell_type": "code",
   "execution_count": 36,
   "id": "7e718dcc",
   "metadata": {},
   "outputs": [
    {
     "name": "stdout",
     "output_type": "stream",
     "text": [
      "21 * 1 = 21\n",
      "21 * 2 = 42\n",
      "21 * 3 = 63\n",
      "21 * 4 = 84\n",
      "21 * 5 = 105\n",
      "21 * 6 = 126\n",
      "21 * 7 = 147\n",
      "21 * 8 = 168\n",
      "21 * 9 = 189\n"
     ]
    }
   ],
   "source": [
    "#19번\n",
    "\n",
    "for i in range(1, 10):\n",
    "    print(f\"21 * {i} = {21 * i}\")"
   ]
  },
  {
   "cell_type": "code",
   "execution_count": 44,
   "id": "dcaef297",
   "metadata": {},
   "outputs": [
    {
     "name": "stdout",
     "output_type": "stream",
     "text": [
      "10\n",
      "9\n",
      "8\n",
      "7\n",
      "6\n",
      "5\n",
      "4\n",
      "3\n",
      "2\n",
      "1\n",
      "해피 뉴 이어!\n"
     ]
    }
   ],
   "source": [
    "#20번\n",
    "\n",
    "# 10부터 1까지 거꾸로 출력하는 while문을 작성해봅시다.\n",
    "num = 10\n",
    "while num > 0 :\n",
    "    print(num)\n",
    "    num -= 1\n",
    "\n",
    "# 반복이 끝난 후 \"해피 뉴 이어!\"를 출력해봅시다.\n",
    "print(\"해피 뉴 이어!\")"
   ]
  },
  {
   "cell_type": "code",
   "execution_count": 49,
   "id": "262ea7a3",
   "metadata": {},
   "outputs": [
    {
     "name": "stdout",
     "output_type": "stream",
     "text": [
      "1번째 단어를 말했습니다!\n",
      "2번째 단어를 말했습니다!\n",
      "3번째 단어를 말했습니다!\n",
      "4번째 단어를 말했습니다!\n",
      "5번째 단어를 말했습니다!\n",
      "연습 끝!\n"
     ]
    }
   ],
   "source": [
    "#21번\n",
    "\n",
    "# while문을 이용해 1~5까지 단어를 출력해봅시다.\n",
    "num = 1\n",
    "while num <= 5:\n",
    "    print(f\"{num}번째 단어를 말했습니다!\")\n",
    "    num += 1\n",
    "\n",
    "# 반복문 종료 후 '연습 끝!'을 출력해봅시다.\n",
    "print(\"연습 끝!\")"
   ]
  },
  {
   "cell_type": "code",
   "execution_count": 54,
   "id": "0448257c",
   "metadata": {},
   "outputs": [
    {
     "name": "stdout",
     "output_type": "stream",
     "text": [
      "1\n",
      "2\n",
      "3\n",
      "4\n",
      "5\n",
      "6\n",
      "7이다! 도망쳐!\n"
     ]
    }
   ],
   "source": [
    "#22번\n",
    "\n",
    "# 1부터 숫자를 증가시키며 출력하는 while문을 작성해봅시다.\n",
    "# 숫자가 7이 되면 '7이다! 도망쳐!'를 출력하고 반복문을 종료해봅시다.\n",
    "num = 1\n",
    "while True:\n",
    "    print(num)\n",
    "    num += 1\n",
    "    if num == 7 : break\n",
    "\n",
    "print(f\"{num}이다! 도망쳐!\")"
   ]
  },
  {
   "cell_type": "code",
   "execution_count": 55,
   "id": "fcd3b40e",
   "metadata": {},
   "outputs": [
    {
     "name": "stdout",
     "output_type": "stream",
     "text": [
      "청소한 먼지 개수:  15\n",
      "청소 완료!\n"
     ]
    }
   ],
   "source": [
    "#23번\n",
    "\n",
    "dust = 0\n",
    "\n",
    "while True:\n",
    "    dust += 1\n",
    "    if dust == 15:\n",
    "        break\n",
    "\n",
    "print(\"청소한 먼지 개수: \", dust)\n",
    "print(\"청소 완료!\")"
   ]
  },
  {
   "cell_type": "code",
   "execution_count": null,
   "id": "4680ce75",
   "metadata": {},
   "outputs": [],
   "source": []
  }
 ],
 "metadata": {
  "kernelspec": {
   "display_name": "pb",
   "language": "python",
   "name": "python3"
  },
  "language_info": {
   "codemirror_mode": {
    "name": "ipython",
    "version": 3
   },
   "file_extension": ".py",
   "mimetype": "text/x-python",
   "name": "python",
   "nbconvert_exporter": "python",
   "pygments_lexer": "ipython3",
   "version": "3.10.16"
  }
 },
 "nbformat": 4,
 "nbformat_minor": 5
}
