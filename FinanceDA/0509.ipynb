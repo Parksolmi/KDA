{
 "cells": [
  {
   "cell_type": "code",
   "execution_count": 1,
   "id": "1b2f1ac9",
   "metadata": {},
   "outputs": [
    {
     "name": "stdout",
     "output_type": "stream",
     "text": [
      "2262-04-11 23:47:16.854775807\n",
      "1677-09-21 00:12:43.145224193\n"
     ]
    }
   ],
   "source": [
    "import pandas as pd\n",
    "#판다스의 날짜 최댓값 출력\n",
    "#판다스의 날짜 최솟값 출력\n",
    "print(pd.Timestamp.max)\n",
    "print(pd.Timestamp.min)"
   ]
  },
  {
   "cell_type": "code",
   "execution_count": null,
   "id": "11d8e94a",
   "metadata": {},
   "outputs": [],
   "source": [
    "# 삼성전자 주식 데이터 분석\n",
    "# 5, 20, 60, 120 이동평균선 추가하는 그래프 만들기\n",
    "# 종가 20일 이동평균선과 거래량 20일 이동평균선을 twinx()로 한 그래프에 표기하기\n",
    "\n",
    "\n",
    "samsung['SMA20'] = samsung['Close'].rolling(window=20).mean()\n",
    "apple['SMA20'] = apple['Close'].rolling(window=20).mean()\n",
    "samsung.head()"
   ]
  }
 ],
 "metadata": {
  "kernelspec": {
   "display_name": "pb",
   "language": "python",
   "name": "python3"
  },
  "language_info": {
   "codemirror_mode": {
    "name": "ipython",
    "version": 3
   },
   "file_extension": ".py",
   "mimetype": "text/x-python",
   "name": "python",
   "nbconvert_exporter": "python",
   "pygments_lexer": "ipython3",
   "version": "3.10.16"
  }
 },
 "nbformat": 4,
 "nbformat_minor": 5
}
