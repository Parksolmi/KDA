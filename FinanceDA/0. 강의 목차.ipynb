{
 "cells": [
  {
   "cell_type": "markdown",
   "id": "b2dc6495",
   "metadata": {},
   "source": [
    "## **파이썬 활용 금융 데이터 분석 목차**\n",
    "\n",
    "### 1. **파이썬 활용 금융 데이터 분석을 위한 라이브러리**\n",
    "   - **pandas**: 데이터 처리 및 분석\n",
    "   - **NumPy**: 수학적 계산 및 배열 처리\n",
    "   - **Matplotlib, Seaborn**: 데이터 시각화\n",
    "   - **TA-Lib**: 기술적 분석 지표 계산\n",
    "   - **yfinance**: 금융 데이터 API 활용\n",
    "\n",
    "### 2. **주가가 데이터의 이해**\n",
    "   - 주식 데이터의 기본 구성 요소 (Open, High, Low, Close, Volume 등)\n",
    "   - 금융 데이터의 수집 방법 (Yahoo Finance)\n",
    "   - 데이터의 시간 범위와 빈도 (일간, 주간, 월간)\n",
    "\n",
    "### 3. **탐색적 데이터 분석 (EDA)**\n",
    "   - EDA의 중요성 및 목적\n",
    "   - 데이터 전처리: 결측치 처리, 이상값 처리\n",
    "   - 데이터 시각화 기법 (Matplotlib)\n",
    "   - 기초 통계 분석: 평균, 표준편차, 상관 행렬\n",
    "   - 주식 차트 분석: 캔들차트, OHLC 차트\n",
    "\n",
    "### 4. **기술적 분석 지표 생성성**\n",
    "   - 데이터 분석의 역할과 필요성\n",
    "   - 투자 결정을 위한 데이터 분석\n",
    "   - **이동평균선 (Moving Averages)**:\n",
    "     - 단기 vs 장기 이동평균선\n",
    "     - 지수이동평균선(EMA)과 단순이동평균선(SMA)\n",
    "   - **볼린저 밴드 (Bollinger Bands)**\n",
    "     - 밴드 상단, 하단 및 중간 밴드 활용법\n",
    "   - **MACD (Moving Average Convergence Divergence)**\n",
    "     - MACD와 신호선 교차 활용\n",
    "   - **RSI (Relative Strength Index)**\n",
    "     - 과매도와 과매수 지점\n",
    "   - **기타 지표**: CCI, ADX, Stochastic Oscillator, Parabolic SAR 등\n",
    "\n",
    "### 5. **투자전략 실습(알고리즘 트레이딩 전략)**\n",
    "   - **기본적인 알고리즘 트레이딩 전략**:\n",
    "     - 듀얼 모멘텀 전략\n",
    "     - 변동성 돌파 전략\n",
    "     - 골든 크로스 & 데드 크로스 전략\n",
    "     - 신고가 돌파 전략\n",
    "   - **리스크 관리 및 포트폴리오 최적화**\n",
    "   \n",
    "### 6. **금융 데이터 분석 사례**\n",
    "   - **성과 측정 지표**: ROI, Sharpe Ratio, Sortino Ratio 등\n",
    "   - **백테스팅**: 투자 전략의 성과를 과거 데이터로 평가\n",
    "   - **리스크 분석**: 최대 낙폭, VaR, 시장 리스크 분석\n",
    "\n",
    "### 7. **키움증권 API 기초**\n",
    "   - **키움증권 API 활용**: 금융 데이터 제공 API를 통한 실시간 거래 자동화\n",
    "   - **자동화된 트레이딩 시스템 구축**\n",
    "\n",
    "### 8. **복습 및 키움증권 모의 투자 실습\n"
   ]
  }
 ],
 "metadata": {
  "kernelspec": {
   "display_name": "Python 3",
   "language": "python",
   "name": "python3"
  },
  "language_info": {
   "name": "python",
   "version": "3.12.9"
  }
 },
 "nbformat": 4,
 "nbformat_minor": 5
}
