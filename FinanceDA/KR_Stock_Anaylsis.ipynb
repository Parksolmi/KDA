{
 "cells": [
  {
   "cell_type": "markdown",
   "id": "2c11b4e7",
   "metadata": {},
   "source": [
    "## 과제\n",
    "1. 네이버 증권사이트의 주가 그래프와 yahoo finance에서 불러온 주가 그래프 비교하여 이미지를 capture하시오.\n",
    "  - 조건: 기간 2025.01.04 ~ 2025.05.07 종가기준\n",
    "2. 히트맵 만들기\n",
    "  - 종목명 : 아모레퍼시픽, 추가적으로 3개의 종목을 선정, 총 4개의 종목\n",
    "  - 추가 종목 : LG생활건강, 클리오, 코스맥스"
   ]
  },
  {
   "cell_type": "code",
   "execution_count": null,
   "id": "5089a81e",
   "metadata": {},
   "outputs": [],
   "source": [
    "pip install yfinance"
   ]
  },
  {
   "cell_type": "code",
   "execution_count": 22,
   "id": "a98c144c",
   "metadata": {},
   "outputs": [
    {
     "name": "stderr",
     "output_type": "stream",
     "text": [
      "[*********************100%***********************]  4 of 4 completed\n"
     ]
    },
    {
     "data": {
      "text/html": [
       "<div>\n",
       "<style scoped>\n",
       "    .dataframe tbody tr th:only-of-type {\n",
       "        vertical-align: middle;\n",
       "    }\n",
       "\n",
       "    .dataframe tbody tr th {\n",
       "        vertical-align: top;\n",
       "    }\n",
       "\n",
       "    .dataframe thead th {\n",
       "        text-align: right;\n",
       "    }\n",
       "</style>\n",
       "<table border=\"1\" class=\"dataframe\">\n",
       "  <thead>\n",
       "    <tr style=\"text-align: right;\">\n",
       "      <th></th>\n",
       "      <th>Amorepacific</th>\n",
       "      <th>LG_H&amp;H</th>\n",
       "      <th>Clio</th>\n",
       "      <th>Cosmax</th>\n",
       "    </tr>\n",
       "    <tr>\n",
       "      <th>Date</th>\n",
       "      <th></th>\n",
       "      <th></th>\n",
       "      <th></th>\n",
       "      <th></th>\n",
       "    </tr>\n",
       "  </thead>\n",
       "  <tbody>\n",
       "    <tr>\n",
       "      <th>2025-01-06</th>\n",
       "      <td>114579.054688</td>\n",
       "      <td>308680.84375</td>\n",
       "      <td>18180.0</td>\n",
       "      <td>143400.0</td>\n",
       "    </tr>\n",
       "    <tr>\n",
       "      <th>2025-01-07</th>\n",
       "      <td>114678.000000</td>\n",
       "      <td>307691.50000</td>\n",
       "      <td>17990.0</td>\n",
       "      <td>145500.0</td>\n",
       "    </tr>\n",
       "    <tr>\n",
       "      <th>2025-01-08</th>\n",
       "      <td>113886.429688</td>\n",
       "      <td>307691.50000</td>\n",
       "      <td>18140.0</td>\n",
       "      <td>149000.0</td>\n",
       "    </tr>\n",
       "    <tr>\n",
       "      <th>2025-01-09</th>\n",
       "      <td>114183.273438</td>\n",
       "      <td>308680.84375</td>\n",
       "      <td>18690.0</td>\n",
       "      <td>150400.0</td>\n",
       "    </tr>\n",
       "    <tr>\n",
       "      <th>2025-01-10</th>\n",
       "      <td>114480.109375</td>\n",
       "      <td>302744.68750</td>\n",
       "      <td>18100.0</td>\n",
       "      <td>147400.0</td>\n",
       "    </tr>\n",
       "  </tbody>\n",
       "</table>\n",
       "</div>"
      ],
      "text/plain": [
       "             Amorepacific        LG_H&H     Clio    Cosmax\n",
       "Date                                                      \n",
       "2025-01-06  114579.054688  308680.84375  18180.0  143400.0\n",
       "2025-01-07  114678.000000  307691.50000  17990.0  145500.0\n",
       "2025-01-08  113886.429688  307691.50000  18140.0  149000.0\n",
       "2025-01-09  114183.273438  308680.84375  18690.0  150400.0\n",
       "2025-01-10  114480.109375  302744.68750  18100.0  147400.0"
      ]
     },
     "metadata": {},
     "output_type": "display_data"
    }
   ],
   "source": [
    "# yahoo finance에서 주가 데이터 가져오기\n",
    "import yfinance as yf\n",
    "\n",
    "# 종목명 → 티커 매핑\n",
    "ticker_dict = {\n",
    "    'Amorepacific': '090430.KS',\n",
    "    'LG_H&H': '051900.KS',\n",
    "    'Clio': '237880.KQ',\n",
    "    'Cosmax': '192820.KQ'\n",
    "}\n",
    "\n",
    "data = yf.download(list(ticker_dict.values()), start='2025-01-04', end='2025-05-07')['Close']\n",
    "# 컬럼 순서를 ticker_dict의 values 순서대로 정렬\n",
    "data = data[list(ticker_dict.values())]\n",
    "\n",
    "# 열 이름을 종목명으로 바꾸기 (선택 사항)\n",
    "data.columns = list(ticker_dict.keys())\n",
    "\n",
    "# 수익률 계산\n",
    "returns = data.pct_change().dropna()\n",
    "\n",
    "display(data.head())"
   ]
  },
  {
   "cell_type": "code",
   "execution_count": 24,
   "id": "8340603a",
   "metadata": {},
   "outputs": [],
   "source": [
    "import matplotlib.pyplot as plt\n",
    "import seaborn as sns\n",
    "sns.set(style='whitegrid')\n",
    "\n",
    "for col in data.columns:\n",
    "    plt.figure(figsize=(12, 4))\n",
    "    plt.plot(data.index, data[col], label=col, color='tab:blue')\n",
    "    plt.title(f\"{col} Stock Price (Close)\")\n",
    "    plt.xlabel(\"Date\")\n",
    "    plt.ylabel(\"Price (KRW)\")\n",
    "    plt.legend(loc='upper left')\n",
    "    plt.grid(True)\n",
    "\n",
    "    # 파일로 저장\n",
    "    filename = f\"Y_{col}.png\"\n",
    "    plt.savefig(filename)\n",
    "    plt.close()  # 메모리 해제"
   ]
  },
  {
   "cell_type": "markdown",
   "id": "01e0a641",
   "metadata": {},
   "source": [
    "### 📊 주가 데이터 비교 (Yahoo Finance vs Naver 증권)\n",
    "\n",
    "| 종목명 | Yahoo Finance | Naver 증권 |\n",
    "|--------|----------------|-------------|\n",
    "| **Amorepacific** | ![야후 데이터](Y_Amorepacific.png) | ![네이버 사이트](N_Amorepacific.png) |\n",
    "| **LG생활건강 (LG H&H)** | ![야후 데이터](Y_LG_H&H.png) | ![네이버 사이트](N_LG_H&H.png) |\n",
    "| **Clio** | ![야후 데이터](Y_Clio.png) | ![네이버 사이트](N_Clio.png) |\n",
    "| **Cosmax** | ![야후 데이터](Y_Cosmax.png) | ![네이버 사이트](N_Cosmax.png) |\n"
   ]
  },
  {
   "cell_type": "markdown",
   "id": "c6ae0488",
   "metadata": {},
   "source": [
    "### 히트맵 그리기"
   ]
  },
  {
   "cell_type": "code",
   "execution_count": 7,
   "id": "c87cb2ba",
   "metadata": {},
   "outputs": [
    {
     "data": {
      "image/png": "[encoded data removed]",
      "text/plain": [
       "<Figure size 800x600 with 2 Axes>"
      ]
     },
     "metadata": {},
     "output_type": "display_data"
    }
   ],
   "source": [
    "plt.figure(figsize=(8,6))\n",
    "# plt.figure(figsize=(8,6), dpi=100) #800 x 600 사이즈 기본단위 인치치\n",
    "sns.heatmap(returns.corr(), annot=True, cmap=\"coolwarm\")\n",
    "plt.title(\"Stock Correlation Heatmap\")\n",
    "plt.show()"
   ]
  },
  {
   "cell_type": "code",
   "execution_count": null,
   "id": "701d1c26",
   "metadata": {},
   "outputs": [],
   "source": []
  }
 ],
 "metadata": {
  "kernelspec": {
   "display_name": "pb",
   "language": "python",
   "name": "python3"
  },
  "language_info": {
   "codemirror_mode": {
    "name": "ipython",
    "version": 3
   },
   "file_extension": ".py",
   "mimetype": "text/x-python",
   "name": "python",
   "nbconvert_exporter": "python",
   "pygments_lexer": "ipython3",
   "version": "3.10.16"
  }
 },
 "nbformat": 4,
 "nbformat_minor": 5
}
